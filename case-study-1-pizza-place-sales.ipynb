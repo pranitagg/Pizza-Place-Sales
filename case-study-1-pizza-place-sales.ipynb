{
 "cells": [
  {
   "cell_type": "code",
   "execution_count": 1,
   "id": "c25cd165",
   "metadata": {
    "_cell_guid": "b1076dfc-b9ad-4769-8c92-a6c4dae69d19",
    "_uuid": "8f2839f25d086af736a60e9eeb907d3b93b6e0e5",
    "execution": {
     "iopub.execute_input": "2023-09-07T14:24:16.028225Z",
     "iopub.status.busy": "2023-09-07T14:24:16.027392Z",
     "iopub.status.idle": "2023-09-07T14:24:16.042102Z",
     "shell.execute_reply": "2023-09-07T14:24:16.040662Z"
    },
    "papermill": {
     "duration": 0.046004,
     "end_time": "2023-09-07T14:24:16.045148",
     "exception": false,
     "start_time": "2023-09-07T14:24:15.999144",
     "status": "completed"
    },
    "tags": []
   },
   "outputs": [],
   "source": [
    "import numpy as np # linear algebra\n",
    "import pandas as pd # data processing, CSV file I/O (e.g. pd.read_csv\n",
    "import datetime as dt\n",
    "import matplotlib.pyplot as plt\n",
    "from matplotlib.pyplot import figure"
   ]
  },
  {
   "cell_type": "markdown",
   "id": "9731224e",
   "metadata": {
    "papermill": {
     "duration": 0.021863,
     "end_time": "2023-09-07T14:24:16.089270",
     "exception": false,
     "start_time": "2023-09-07T14:24:16.067407",
     "status": "completed"
    },
    "tags": []
   },
   "source": [
    "# **Orders data**"
   ]
  },
  {
   "cell_type": "code",
   "execution_count": 2,
   "id": "804a8044",
   "metadata": {
    "execution": {
     "iopub.execute_input": "2023-09-07T14:24:16.137774Z",
     "iopub.status.busy": "2023-09-07T14:24:16.137281Z",
     "iopub.status.idle": "2023-09-07T14:24:16.241789Z",
     "shell.execute_reply": "2023-09-07T14:24:16.240389Z"
    },
    "papermill": {
     "duration": 0.132923,
     "end_time": "2023-09-07T14:24:16.245323",
     "exception": false,
     "start_time": "2023-09-07T14:24:16.112400",
     "status": "completed"
    },
    "tags": []
   },
   "outputs": [
    {
     "data": {
      "text/html": [
       "<div>\n",
       "<style scoped>\n",
       "    .dataframe tbody tr th:only-of-type {\n",
       "        vertical-align: middle;\n",
       "    }\n",
       "\n",
       "    .dataframe tbody tr th {\n",
       "        vertical-align: top;\n",
       "    }\n",
       "\n",
       "    .dataframe thead th {\n",
       "        text-align: right;\n",
       "    }\n",
       "</style>\n",
       "<table border=\"1\" class=\"dataframe\">\n",
       "  <thead>\n",
       "    <tr style=\"text-align: right;\">\n",
       "      <th></th>\n",
       "      <th>order_details_id</th>\n",
       "      <th>order_id</th>\n",
       "      <th>pizza_id</th>\n",
       "      <th>quantity</th>\n",
       "    </tr>\n",
       "  </thead>\n",
       "  <tbody>\n",
       "    <tr>\n",
       "      <th>0</th>\n",
       "      <td>1</td>\n",
       "      <td>1</td>\n",
       "      <td>hawaiian_m</td>\n",
       "      <td>1</td>\n",
       "    </tr>\n",
       "    <tr>\n",
       "      <th>1</th>\n",
       "      <td>2</td>\n",
       "      <td>2</td>\n",
       "      <td>classic_dlx_m</td>\n",
       "      <td>1</td>\n",
       "    </tr>\n",
       "    <tr>\n",
       "      <th>2</th>\n",
       "      <td>3</td>\n",
       "      <td>2</td>\n",
       "      <td>five_cheese_l</td>\n",
       "      <td>1</td>\n",
       "    </tr>\n",
       "    <tr>\n",
       "      <th>3</th>\n",
       "      <td>4</td>\n",
       "      <td>2</td>\n",
       "      <td>ital_supr_l</td>\n",
       "      <td>1</td>\n",
       "    </tr>\n",
       "    <tr>\n",
       "      <th>4</th>\n",
       "      <td>5</td>\n",
       "      <td>2</td>\n",
       "      <td>mexicana_m</td>\n",
       "      <td>1</td>\n",
       "    </tr>\n",
       "    <tr>\n",
       "      <th>...</th>\n",
       "      <td>...</td>\n",
       "      <td>...</td>\n",
       "      <td>...</td>\n",
       "      <td>...</td>\n",
       "    </tr>\n",
       "    <tr>\n",
       "      <th>48615</th>\n",
       "      <td>48616</td>\n",
       "      <td>21348</td>\n",
       "      <td>ckn_alfredo_m</td>\n",
       "      <td>1</td>\n",
       "    </tr>\n",
       "    <tr>\n",
       "      <th>48616</th>\n",
       "      <td>48617</td>\n",
       "      <td>21348</td>\n",
       "      <td>four_cheese_l</td>\n",
       "      <td>1</td>\n",
       "    </tr>\n",
       "    <tr>\n",
       "      <th>48617</th>\n",
       "      <td>48618</td>\n",
       "      <td>21348</td>\n",
       "      <td>napolitana_s</td>\n",
       "      <td>1</td>\n",
       "    </tr>\n",
       "    <tr>\n",
       "      <th>48618</th>\n",
       "      <td>48619</td>\n",
       "      <td>21349</td>\n",
       "      <td>mexicana_l</td>\n",
       "      <td>1</td>\n",
       "    </tr>\n",
       "    <tr>\n",
       "      <th>48619</th>\n",
       "      <td>48620</td>\n",
       "      <td>21350</td>\n",
       "      <td>bbq_ckn_s</td>\n",
       "      <td>1</td>\n",
       "    </tr>\n",
       "  </tbody>\n",
       "</table>\n",
       "<p>48620 rows × 4 columns</p>\n",
       "</div>"
      ],
      "text/plain": [
       "       order_details_id  order_id       pizza_id  quantity\n",
       "0                     1         1     hawaiian_m         1\n",
       "1                     2         2  classic_dlx_m         1\n",
       "2                     3         2  five_cheese_l         1\n",
       "3                     4         2    ital_supr_l         1\n",
       "4                     5         2     mexicana_m         1\n",
       "...                 ...       ...            ...       ...\n",
       "48615             48616     21348  ckn_alfredo_m         1\n",
       "48616             48617     21348  four_cheese_l         1\n",
       "48617             48618     21348   napolitana_s         1\n",
       "48618             48619     21349     mexicana_l         1\n",
       "48619             48620     21350      bbq_ckn_s         1\n",
       "\n",
       "[48620 rows x 4 columns]"
      ]
     },
     "execution_count": 2,
     "metadata": {},
     "output_type": "execute_result"
    }
   ],
   "source": [
    "df=pd.read_csv('/kaggle/input/pizza-place-sales/order_details.csv')\n",
    "df"
   ]
  },
  {
   "cell_type": "code",
   "execution_count": 3,
   "id": "c306543a",
   "metadata": {
    "execution": {
     "iopub.execute_input": "2023-09-07T14:24:16.295846Z",
     "iopub.status.busy": "2023-09-07T14:24:16.295432Z",
     "iopub.status.idle": "2023-09-07T14:24:16.312597Z",
     "shell.execute_reply": "2023-09-07T14:24:16.311641Z"
    },
    "papermill": {
     "duration": 0.045835,
     "end_time": "2023-09-07T14:24:16.315330",
     "exception": false,
     "start_time": "2023-09-07T14:24:16.269495",
     "status": "completed"
    },
    "tags": []
   },
   "outputs": [
    {
     "data": {
      "text/plain": [
       "order_details_id    0\n",
       "order_id            0\n",
       "pizza_id            0\n",
       "quantity            0\n",
       "dtype: int64"
      ]
     },
     "execution_count": 3,
     "metadata": {},
     "output_type": "execute_result"
    }
   ],
   "source": [
    "df.isnull().sum()"
   ]
  },
  {
   "cell_type": "code",
   "execution_count": 4,
   "id": "7ee23adc",
   "metadata": {
    "execution": {
     "iopub.execute_input": "2023-09-07T14:24:16.366814Z",
     "iopub.status.busy": "2023-09-07T14:24:16.365866Z",
     "iopub.status.idle": "2023-09-07T14:24:16.406050Z",
     "shell.execute_reply": "2023-09-07T14:24:16.405025Z"
    },
    "papermill": {
     "duration": 0.069348,
     "end_time": "2023-09-07T14:24:16.408975",
     "exception": false,
     "start_time": "2023-09-07T14:24:16.339627",
     "status": "completed"
    },
    "tags": []
   },
   "outputs": [],
   "source": [
    "df1=pd.read_csv('/kaggle/input/pizza-place-sales/orders.csv')"
   ]
  },
  {
   "cell_type": "code",
   "execution_count": 5,
   "id": "10593781",
   "metadata": {
    "execution": {
     "iopub.execute_input": "2023-09-07T14:24:16.459741Z",
     "iopub.status.busy": "2023-09-07T14:24:16.459228Z",
     "iopub.status.idle": "2023-09-07T14:24:16.474661Z",
     "shell.execute_reply": "2023-09-07T14:24:16.473537Z"
    },
    "papermill": {
     "duration": 0.044842,
     "end_time": "2023-09-07T14:24:16.477902",
     "exception": false,
     "start_time": "2023-09-07T14:24:16.433060",
     "status": "completed"
    },
    "tags": []
   },
   "outputs": [
    {
     "data": {
      "text/html": [
       "<div>\n",
       "<style scoped>\n",
       "    .dataframe tbody tr th:only-of-type {\n",
       "        vertical-align: middle;\n",
       "    }\n",
       "\n",
       "    .dataframe tbody tr th {\n",
       "        vertical-align: top;\n",
       "    }\n",
       "\n",
       "    .dataframe thead th {\n",
       "        text-align: right;\n",
       "    }\n",
       "</style>\n",
       "<table border=\"1\" class=\"dataframe\">\n",
       "  <thead>\n",
       "    <tr style=\"text-align: right;\">\n",
       "      <th></th>\n",
       "      <th>order_id</th>\n",
       "      <th>date</th>\n",
       "      <th>time</th>\n",
       "    </tr>\n",
       "  </thead>\n",
       "  <tbody>\n",
       "    <tr>\n",
       "      <th>0</th>\n",
       "      <td>1</td>\n",
       "      <td>2015-01-01</td>\n",
       "      <td>11:38:36</td>\n",
       "    </tr>\n",
       "    <tr>\n",
       "      <th>1</th>\n",
       "      <td>2</td>\n",
       "      <td>2015-01-01</td>\n",
       "      <td>11:57:40</td>\n",
       "    </tr>\n",
       "    <tr>\n",
       "      <th>2</th>\n",
       "      <td>3</td>\n",
       "      <td>2015-01-01</td>\n",
       "      <td>12:12:28</td>\n",
       "    </tr>\n",
       "    <tr>\n",
       "      <th>3</th>\n",
       "      <td>4</td>\n",
       "      <td>2015-01-01</td>\n",
       "      <td>12:16:31</td>\n",
       "    </tr>\n",
       "    <tr>\n",
       "      <th>4</th>\n",
       "      <td>5</td>\n",
       "      <td>2015-01-01</td>\n",
       "      <td>12:21:30</td>\n",
       "    </tr>\n",
       "    <tr>\n",
       "      <th>...</th>\n",
       "      <td>...</td>\n",
       "      <td>...</td>\n",
       "      <td>...</td>\n",
       "    </tr>\n",
       "    <tr>\n",
       "      <th>21345</th>\n",
       "      <td>21346</td>\n",
       "      <td>2015-12-31</td>\n",
       "      <td>20:51:07</td>\n",
       "    </tr>\n",
       "    <tr>\n",
       "      <th>21346</th>\n",
       "      <td>21347</td>\n",
       "      <td>2015-12-31</td>\n",
       "      <td>21:14:37</td>\n",
       "    </tr>\n",
       "    <tr>\n",
       "      <th>21347</th>\n",
       "      <td>21348</td>\n",
       "      <td>2015-12-31</td>\n",
       "      <td>21:23:10</td>\n",
       "    </tr>\n",
       "    <tr>\n",
       "      <th>21348</th>\n",
       "      <td>21349</td>\n",
       "      <td>2015-12-31</td>\n",
       "      <td>22:09:54</td>\n",
       "    </tr>\n",
       "    <tr>\n",
       "      <th>21349</th>\n",
       "      <td>21350</td>\n",
       "      <td>2015-12-31</td>\n",
       "      <td>23:02:05</td>\n",
       "    </tr>\n",
       "  </tbody>\n",
       "</table>\n",
       "<p>21350 rows × 3 columns</p>\n",
       "</div>"
      ],
      "text/plain": [
       "       order_id        date      time\n",
       "0             1  2015-01-01  11:38:36\n",
       "1             2  2015-01-01  11:57:40\n",
       "2             3  2015-01-01  12:12:28\n",
       "3             4  2015-01-01  12:16:31\n",
       "4             5  2015-01-01  12:21:30\n",
       "...         ...         ...       ...\n",
       "21345     21346  2015-12-31  20:51:07\n",
       "21346     21347  2015-12-31  21:14:37\n",
       "21347     21348  2015-12-31  21:23:10\n",
       "21348     21349  2015-12-31  22:09:54\n",
       "21349     21350  2015-12-31  23:02:05\n",
       "\n",
       "[21350 rows x 3 columns]"
      ]
     },
     "execution_count": 5,
     "metadata": {},
     "output_type": "execute_result"
    }
   ],
   "source": [
    "df1"
   ]
  },
  {
   "cell_type": "code",
   "execution_count": 6,
   "id": "9d125a40",
   "metadata": {
    "execution": {
     "iopub.execute_input": "2023-09-07T14:24:16.526517Z",
     "iopub.status.busy": "2023-09-07T14:24:16.526039Z",
     "iopub.status.idle": "2023-09-07T14:24:16.562659Z",
     "shell.execute_reply": "2023-09-07T14:24:16.561595Z"
    },
    "papermill": {
     "duration": 0.064161,
     "end_time": "2023-09-07T14:24:16.565422",
     "exception": false,
     "start_time": "2023-09-07T14:24:16.501261",
     "status": "completed"
    },
    "tags": []
   },
   "outputs": [],
   "source": [
    "orders=df.merge(df1, how='inner', on=['order_id'])"
   ]
  },
  {
   "cell_type": "code",
   "execution_count": 7,
   "id": "c8783ae0",
   "metadata": {
    "execution": {
     "iopub.execute_input": "2023-09-07T14:24:16.614503Z",
     "iopub.status.busy": "2023-09-07T14:24:16.613796Z",
     "iopub.status.idle": "2023-09-07T14:24:16.630667Z",
     "shell.execute_reply": "2023-09-07T14:24:16.629345Z"
    },
    "papermill": {
     "duration": 0.045326,
     "end_time": "2023-09-07T14:24:16.633879",
     "exception": false,
     "start_time": "2023-09-07T14:24:16.588553",
     "status": "completed"
    },
    "tags": []
   },
   "outputs": [
    {
     "data": {
      "text/html": [
       "<div>\n",
       "<style scoped>\n",
       "    .dataframe tbody tr th:only-of-type {\n",
       "        vertical-align: middle;\n",
       "    }\n",
       "\n",
       "    .dataframe tbody tr th {\n",
       "        vertical-align: top;\n",
       "    }\n",
       "\n",
       "    .dataframe thead th {\n",
       "        text-align: right;\n",
       "    }\n",
       "</style>\n",
       "<table border=\"1\" class=\"dataframe\">\n",
       "  <thead>\n",
       "    <tr style=\"text-align: right;\">\n",
       "      <th></th>\n",
       "      <th>order_details_id</th>\n",
       "      <th>order_id</th>\n",
       "      <th>pizza_id</th>\n",
       "      <th>quantity</th>\n",
       "      <th>date</th>\n",
       "      <th>time</th>\n",
       "    </tr>\n",
       "  </thead>\n",
       "  <tbody>\n",
       "    <tr>\n",
       "      <th>0</th>\n",
       "      <td>1</td>\n",
       "      <td>1</td>\n",
       "      <td>hawaiian_m</td>\n",
       "      <td>1</td>\n",
       "      <td>2015-01-01</td>\n",
       "      <td>11:38:36</td>\n",
       "    </tr>\n",
       "    <tr>\n",
       "      <th>1</th>\n",
       "      <td>2</td>\n",
       "      <td>2</td>\n",
       "      <td>classic_dlx_m</td>\n",
       "      <td>1</td>\n",
       "      <td>2015-01-01</td>\n",
       "      <td>11:57:40</td>\n",
       "    </tr>\n",
       "    <tr>\n",
       "      <th>2</th>\n",
       "      <td>3</td>\n",
       "      <td>2</td>\n",
       "      <td>five_cheese_l</td>\n",
       "      <td>1</td>\n",
       "      <td>2015-01-01</td>\n",
       "      <td>11:57:40</td>\n",
       "    </tr>\n",
       "    <tr>\n",
       "      <th>3</th>\n",
       "      <td>4</td>\n",
       "      <td>2</td>\n",
       "      <td>ital_supr_l</td>\n",
       "      <td>1</td>\n",
       "      <td>2015-01-01</td>\n",
       "      <td>11:57:40</td>\n",
       "    </tr>\n",
       "    <tr>\n",
       "      <th>4</th>\n",
       "      <td>5</td>\n",
       "      <td>2</td>\n",
       "      <td>mexicana_m</td>\n",
       "      <td>1</td>\n",
       "      <td>2015-01-01</td>\n",
       "      <td>11:57:40</td>\n",
       "    </tr>\n",
       "    <tr>\n",
       "      <th>...</th>\n",
       "      <td>...</td>\n",
       "      <td>...</td>\n",
       "      <td>...</td>\n",
       "      <td>...</td>\n",
       "      <td>...</td>\n",
       "      <td>...</td>\n",
       "    </tr>\n",
       "    <tr>\n",
       "      <th>48615</th>\n",
       "      <td>48616</td>\n",
       "      <td>21348</td>\n",
       "      <td>ckn_alfredo_m</td>\n",
       "      <td>1</td>\n",
       "      <td>2015-12-31</td>\n",
       "      <td>21:23:10</td>\n",
       "    </tr>\n",
       "    <tr>\n",
       "      <th>48616</th>\n",
       "      <td>48617</td>\n",
       "      <td>21348</td>\n",
       "      <td>four_cheese_l</td>\n",
       "      <td>1</td>\n",
       "      <td>2015-12-31</td>\n",
       "      <td>21:23:10</td>\n",
       "    </tr>\n",
       "    <tr>\n",
       "      <th>48617</th>\n",
       "      <td>48618</td>\n",
       "      <td>21348</td>\n",
       "      <td>napolitana_s</td>\n",
       "      <td>1</td>\n",
       "      <td>2015-12-31</td>\n",
       "      <td>21:23:10</td>\n",
       "    </tr>\n",
       "    <tr>\n",
       "      <th>48618</th>\n",
       "      <td>48619</td>\n",
       "      <td>21349</td>\n",
       "      <td>mexicana_l</td>\n",
       "      <td>1</td>\n",
       "      <td>2015-12-31</td>\n",
       "      <td>22:09:54</td>\n",
       "    </tr>\n",
       "    <tr>\n",
       "      <th>48619</th>\n",
       "      <td>48620</td>\n",
       "      <td>21350</td>\n",
       "      <td>bbq_ckn_s</td>\n",
       "      <td>1</td>\n",
       "      <td>2015-12-31</td>\n",
       "      <td>23:02:05</td>\n",
       "    </tr>\n",
       "  </tbody>\n",
       "</table>\n",
       "<p>48620 rows × 6 columns</p>\n",
       "</div>"
      ],
      "text/plain": [
       "       order_details_id  order_id       pizza_id  quantity        date  \\\n",
       "0                     1         1     hawaiian_m         1  2015-01-01   \n",
       "1                     2         2  classic_dlx_m         1  2015-01-01   \n",
       "2                     3         2  five_cheese_l         1  2015-01-01   \n",
       "3                     4         2    ital_supr_l         1  2015-01-01   \n",
       "4                     5         2     mexicana_m         1  2015-01-01   \n",
       "...                 ...       ...            ...       ...         ...   \n",
       "48615             48616     21348  ckn_alfredo_m         1  2015-12-31   \n",
       "48616             48617     21348  four_cheese_l         1  2015-12-31   \n",
       "48617             48618     21348   napolitana_s         1  2015-12-31   \n",
       "48618             48619     21349     mexicana_l         1  2015-12-31   \n",
       "48619             48620     21350      bbq_ckn_s         1  2015-12-31   \n",
       "\n",
       "           time  \n",
       "0      11:38:36  \n",
       "1      11:57:40  \n",
       "2      11:57:40  \n",
       "3      11:57:40  \n",
       "4      11:57:40  \n",
       "...         ...  \n",
       "48615  21:23:10  \n",
       "48616  21:23:10  \n",
       "48617  21:23:10  \n",
       "48618  22:09:54  \n",
       "48619  23:02:05  \n",
       "\n",
       "[48620 rows x 6 columns]"
      ]
     },
     "execution_count": 7,
     "metadata": {},
     "output_type": "execute_result"
    }
   ],
   "source": [
    "orders"
   ]
  },
  {
   "cell_type": "code",
   "execution_count": 8,
   "id": "405d477e",
   "metadata": {
    "execution": {
     "iopub.execute_input": "2023-09-07T14:24:16.684658Z",
     "iopub.status.busy": "2023-09-07T14:24:16.684209Z",
     "iopub.status.idle": "2023-09-07T14:24:16.711477Z",
     "shell.execute_reply": "2023-09-07T14:24:16.710188Z"
    },
    "papermill": {
     "duration": 0.055785,
     "end_time": "2023-09-07T14:24:16.714268",
     "exception": false,
     "start_time": "2023-09-07T14:24:16.658483",
     "status": "completed"
    },
    "tags": []
   },
   "outputs": [
    {
     "data": {
      "text/html": [
       "<div>\n",
       "<style scoped>\n",
       "    .dataframe tbody tr th:only-of-type {\n",
       "        vertical-align: middle;\n",
       "    }\n",
       "\n",
       "    .dataframe tbody tr th {\n",
       "        vertical-align: top;\n",
       "    }\n",
       "\n",
       "    .dataframe thead th {\n",
       "        text-align: right;\n",
       "    }\n",
       "</style>\n",
       "<table border=\"1\" class=\"dataframe\">\n",
       "  <thead>\n",
       "    <tr style=\"text-align: right;\">\n",
       "      <th></th>\n",
       "      <th>order_id</th>\n",
       "      <th>pizza_id</th>\n",
       "      <th>quantity</th>\n",
       "      <th>date</th>\n",
       "      <th>time</th>\n",
       "    </tr>\n",
       "    <tr>\n",
       "      <th>order_details_id</th>\n",
       "      <th></th>\n",
       "      <th></th>\n",
       "      <th></th>\n",
       "      <th></th>\n",
       "      <th></th>\n",
       "    </tr>\n",
       "  </thead>\n",
       "  <tbody>\n",
       "    <tr>\n",
       "      <th>1</th>\n",
       "      <td>1</td>\n",
       "      <td>hawaiian_m</td>\n",
       "      <td>1</td>\n",
       "      <td>2015-01-01</td>\n",
       "      <td>11:38:36</td>\n",
       "    </tr>\n",
       "    <tr>\n",
       "      <th>2</th>\n",
       "      <td>2</td>\n",
       "      <td>classic_dlx_m</td>\n",
       "      <td>1</td>\n",
       "      <td>2015-01-01</td>\n",
       "      <td>11:57:40</td>\n",
       "    </tr>\n",
       "    <tr>\n",
       "      <th>3</th>\n",
       "      <td>2</td>\n",
       "      <td>five_cheese_l</td>\n",
       "      <td>1</td>\n",
       "      <td>2015-01-01</td>\n",
       "      <td>11:57:40</td>\n",
       "    </tr>\n",
       "    <tr>\n",
       "      <th>4</th>\n",
       "      <td>2</td>\n",
       "      <td>ital_supr_l</td>\n",
       "      <td>1</td>\n",
       "      <td>2015-01-01</td>\n",
       "      <td>11:57:40</td>\n",
       "    </tr>\n",
       "    <tr>\n",
       "      <th>5</th>\n",
       "      <td>2</td>\n",
       "      <td>mexicana_m</td>\n",
       "      <td>1</td>\n",
       "      <td>2015-01-01</td>\n",
       "      <td>11:57:40</td>\n",
       "    </tr>\n",
       "    <tr>\n",
       "      <th>...</th>\n",
       "      <td>...</td>\n",
       "      <td>...</td>\n",
       "      <td>...</td>\n",
       "      <td>...</td>\n",
       "      <td>...</td>\n",
       "    </tr>\n",
       "    <tr>\n",
       "      <th>48616</th>\n",
       "      <td>21348</td>\n",
       "      <td>ckn_alfredo_m</td>\n",
       "      <td>1</td>\n",
       "      <td>2015-12-31</td>\n",
       "      <td>21:23:10</td>\n",
       "    </tr>\n",
       "    <tr>\n",
       "      <th>48617</th>\n",
       "      <td>21348</td>\n",
       "      <td>four_cheese_l</td>\n",
       "      <td>1</td>\n",
       "      <td>2015-12-31</td>\n",
       "      <td>21:23:10</td>\n",
       "    </tr>\n",
       "    <tr>\n",
       "      <th>48618</th>\n",
       "      <td>21348</td>\n",
       "      <td>napolitana_s</td>\n",
       "      <td>1</td>\n",
       "      <td>2015-12-31</td>\n",
       "      <td>21:23:10</td>\n",
       "    </tr>\n",
       "    <tr>\n",
       "      <th>48619</th>\n",
       "      <td>21349</td>\n",
       "      <td>mexicana_l</td>\n",
       "      <td>1</td>\n",
       "      <td>2015-12-31</td>\n",
       "      <td>22:09:54</td>\n",
       "    </tr>\n",
       "    <tr>\n",
       "      <th>48620</th>\n",
       "      <td>21350</td>\n",
       "      <td>bbq_ckn_s</td>\n",
       "      <td>1</td>\n",
       "      <td>2015-12-31</td>\n",
       "      <td>23:02:05</td>\n",
       "    </tr>\n",
       "  </tbody>\n",
       "</table>\n",
       "<p>48620 rows × 5 columns</p>\n",
       "</div>"
      ],
      "text/plain": [
       "                  order_id       pizza_id  quantity        date      time\n",
       "order_details_id                                                         \n",
       "1                        1     hawaiian_m         1  2015-01-01  11:38:36\n",
       "2                        2  classic_dlx_m         1  2015-01-01  11:57:40\n",
       "3                        2  five_cheese_l         1  2015-01-01  11:57:40\n",
       "4                        2    ital_supr_l         1  2015-01-01  11:57:40\n",
       "5                        2     mexicana_m         1  2015-01-01  11:57:40\n",
       "...                    ...            ...       ...         ...       ...\n",
       "48616                21348  ckn_alfredo_m         1  2015-12-31  21:23:10\n",
       "48617                21348  four_cheese_l         1  2015-12-31  21:23:10\n",
       "48618                21348   napolitana_s         1  2015-12-31  21:23:10\n",
       "48619                21349     mexicana_l         1  2015-12-31  22:09:54\n",
       "48620                21350      bbq_ckn_s         1  2015-12-31  23:02:05\n",
       "\n",
       "[48620 rows x 5 columns]"
      ]
     },
     "execution_count": 8,
     "metadata": {},
     "output_type": "execute_result"
    }
   ],
   "source": [
    "orders.set_index('order_details_id')"
   ]
  },
  {
   "cell_type": "code",
   "execution_count": 9,
   "id": "8d8bcdfb",
   "metadata": {
    "execution": {
     "iopub.execute_input": "2023-09-07T14:24:16.766929Z",
     "iopub.status.busy": "2023-09-07T14:24:16.766501Z",
     "iopub.status.idle": "2023-09-07T14:24:16.794854Z",
     "shell.execute_reply": "2023-09-07T14:24:16.793654Z"
    },
    "papermill": {
     "duration": 0.057585,
     "end_time": "2023-09-07T14:24:16.797724",
     "exception": false,
     "start_time": "2023-09-07T14:24:16.740139",
     "status": "completed"
    },
    "tags": []
   },
   "outputs": [
    {
     "data": {
      "text/plain": [
       "order_details_id    0\n",
       "order_id            0\n",
       "pizza_id            0\n",
       "quantity            0\n",
       "date                0\n",
       "time                0\n",
       "dtype: int64"
      ]
     },
     "execution_count": 9,
     "metadata": {},
     "output_type": "execute_result"
    }
   ],
   "source": [
    "orders.isnull().sum()"
   ]
  },
  {
   "cell_type": "code",
   "execution_count": 10,
   "id": "17f1bffc",
   "metadata": {
    "execution": {
     "iopub.execute_input": "2023-09-07T14:24:16.848650Z",
     "iopub.status.busy": "2023-09-07T14:24:16.848185Z",
     "iopub.status.idle": "2023-09-07T14:24:16.888396Z",
     "shell.execute_reply": "2023-09-07T14:24:16.886938Z"
    },
    "papermill": {
     "duration": 0.069433,
     "end_time": "2023-09-07T14:24:16.891235",
     "exception": false,
     "start_time": "2023-09-07T14:24:16.821802",
     "status": "completed"
    },
    "tags": []
   },
   "outputs": [
    {
     "name": "stdout",
     "output_type": "stream",
     "text": [
      "<class 'pandas.core.frame.DataFrame'>\n",
      "Int64Index: 48620 entries, 0 to 48619\n",
      "Data columns (total 6 columns):\n",
      " #   Column            Non-Null Count  Dtype \n",
      "---  ------            --------------  ----- \n",
      " 0   order_details_id  48620 non-null  int64 \n",
      " 1   order_id          48620 non-null  int64 \n",
      " 2   pizza_id          48620 non-null  object\n",
      " 3   quantity          48620 non-null  int64 \n",
      " 4   date              48620 non-null  object\n",
      " 5   time              48620 non-null  object\n",
      "dtypes: int64(3), object(3)\n",
      "memory usage: 2.6+ MB\n"
     ]
    }
   ],
   "source": [
    "orders.info()"
   ]
  },
  {
   "cell_type": "markdown",
   "id": "56ff37cf",
   "metadata": {
    "papermill": {
     "duration": 0.024598,
     "end_time": "2023-09-07T14:24:16.941432",
     "exception": false,
     "start_time": "2023-09-07T14:24:16.916834",
     "status": "completed"
    },
    "tags": []
   },
   "source": [
    "# **Pizzas data**"
   ]
  },
  {
   "cell_type": "code",
   "execution_count": 11,
   "id": "731f4203",
   "metadata": {
    "execution": {
     "iopub.execute_input": "2023-09-07T14:24:16.991798Z",
     "iopub.status.busy": "2023-09-07T14:24:16.991389Z",
     "iopub.status.idle": "2023-09-07T14:24:17.007026Z",
     "shell.execute_reply": "2023-09-07T14:24:17.005883Z"
    },
    "papermill": {
     "duration": 0.044061,
     "end_time": "2023-09-07T14:24:17.009928",
     "exception": false,
     "start_time": "2023-09-07T14:24:16.965867",
     "status": "completed"
    },
    "tags": []
   },
   "outputs": [],
   "source": [
    "p=pd.read_csv('/kaggle/input/pizza-place-sales/pizzas.csv')"
   ]
  },
  {
   "cell_type": "code",
   "execution_count": 12,
   "id": "aced684c",
   "metadata": {
    "execution": {
     "iopub.execute_input": "2023-09-07T14:24:17.061748Z",
     "iopub.status.busy": "2023-09-07T14:24:17.061326Z",
     "iopub.status.idle": "2023-09-07T14:24:17.079240Z",
     "shell.execute_reply": "2023-09-07T14:24:17.078054Z"
    },
    "papermill": {
     "duration": 0.046713,
     "end_time": "2023-09-07T14:24:17.081866",
     "exception": false,
     "start_time": "2023-09-07T14:24:17.035153",
     "status": "completed"
    },
    "tags": []
   },
   "outputs": [
    {
     "data": {
      "text/html": [
       "<div>\n",
       "<style scoped>\n",
       "    .dataframe tbody tr th:only-of-type {\n",
       "        vertical-align: middle;\n",
       "    }\n",
       "\n",
       "    .dataframe tbody tr th {\n",
       "        vertical-align: top;\n",
       "    }\n",
       "\n",
       "    .dataframe thead th {\n",
       "        text-align: right;\n",
       "    }\n",
       "</style>\n",
       "<table border=\"1\" class=\"dataframe\">\n",
       "  <thead>\n",
       "    <tr style=\"text-align: right;\">\n",
       "      <th></th>\n",
       "      <th>pizza_id</th>\n",
       "      <th>pizza_type_id</th>\n",
       "      <th>size</th>\n",
       "      <th>price</th>\n",
       "    </tr>\n",
       "  </thead>\n",
       "  <tbody>\n",
       "    <tr>\n",
       "      <th>0</th>\n",
       "      <td>bbq_ckn_s</td>\n",
       "      <td>bbq_ckn</td>\n",
       "      <td>S</td>\n",
       "      <td>12.75</td>\n",
       "    </tr>\n",
       "    <tr>\n",
       "      <th>1</th>\n",
       "      <td>bbq_ckn_m</td>\n",
       "      <td>bbq_ckn</td>\n",
       "      <td>M</td>\n",
       "      <td>16.75</td>\n",
       "    </tr>\n",
       "    <tr>\n",
       "      <th>2</th>\n",
       "      <td>bbq_ckn_l</td>\n",
       "      <td>bbq_ckn</td>\n",
       "      <td>L</td>\n",
       "      <td>20.75</td>\n",
       "    </tr>\n",
       "    <tr>\n",
       "      <th>3</th>\n",
       "      <td>cali_ckn_s</td>\n",
       "      <td>cali_ckn</td>\n",
       "      <td>S</td>\n",
       "      <td>12.75</td>\n",
       "    </tr>\n",
       "    <tr>\n",
       "      <th>4</th>\n",
       "      <td>cali_ckn_m</td>\n",
       "      <td>cali_ckn</td>\n",
       "      <td>M</td>\n",
       "      <td>16.75</td>\n",
       "    </tr>\n",
       "    <tr>\n",
       "      <th>...</th>\n",
       "      <td>...</td>\n",
       "      <td>...</td>\n",
       "      <td>...</td>\n",
       "      <td>...</td>\n",
       "    </tr>\n",
       "    <tr>\n",
       "      <th>91</th>\n",
       "      <td>spinach_fet_m</td>\n",
       "      <td>spinach_fet</td>\n",
       "      <td>M</td>\n",
       "      <td>16.00</td>\n",
       "    </tr>\n",
       "    <tr>\n",
       "      <th>92</th>\n",
       "      <td>spinach_fet_l</td>\n",
       "      <td>spinach_fet</td>\n",
       "      <td>L</td>\n",
       "      <td>20.25</td>\n",
       "    </tr>\n",
       "    <tr>\n",
       "      <th>93</th>\n",
       "      <td>veggie_veg_s</td>\n",
       "      <td>veggie_veg</td>\n",
       "      <td>S</td>\n",
       "      <td>12.00</td>\n",
       "    </tr>\n",
       "    <tr>\n",
       "      <th>94</th>\n",
       "      <td>veggie_veg_m</td>\n",
       "      <td>veggie_veg</td>\n",
       "      <td>M</td>\n",
       "      <td>16.00</td>\n",
       "    </tr>\n",
       "    <tr>\n",
       "      <th>95</th>\n",
       "      <td>veggie_veg_l</td>\n",
       "      <td>veggie_veg</td>\n",
       "      <td>L</td>\n",
       "      <td>20.25</td>\n",
       "    </tr>\n",
       "  </tbody>\n",
       "</table>\n",
       "<p>96 rows × 4 columns</p>\n",
       "</div>"
      ],
      "text/plain": [
       "         pizza_id pizza_type_id size  price\n",
       "0       bbq_ckn_s       bbq_ckn    S  12.75\n",
       "1       bbq_ckn_m       bbq_ckn    M  16.75\n",
       "2       bbq_ckn_l       bbq_ckn    L  20.75\n",
       "3      cali_ckn_s      cali_ckn    S  12.75\n",
       "4      cali_ckn_m      cali_ckn    M  16.75\n",
       "..            ...           ...  ...    ...\n",
       "91  spinach_fet_m   spinach_fet    M  16.00\n",
       "92  spinach_fet_l   spinach_fet    L  20.25\n",
       "93   veggie_veg_s    veggie_veg    S  12.00\n",
       "94   veggie_veg_m    veggie_veg    M  16.00\n",
       "95   veggie_veg_l    veggie_veg    L  20.25\n",
       "\n",
       "[96 rows x 4 columns]"
      ]
     },
     "execution_count": 12,
     "metadata": {},
     "output_type": "execute_result"
    }
   ],
   "source": [
    "p"
   ]
  },
  {
   "cell_type": "code",
   "execution_count": 13,
   "id": "7dc8bb6f",
   "metadata": {
    "execution": {
     "iopub.execute_input": "2023-09-07T14:24:17.133964Z",
     "iopub.status.busy": "2023-09-07T14:24:17.133544Z",
     "iopub.status.idle": "2023-09-07T14:24:17.150820Z",
     "shell.execute_reply": "2023-09-07T14:24:17.149518Z"
    },
    "papermill": {
     "duration": 0.046934,
     "end_time": "2023-09-07T14:24:17.153564",
     "exception": false,
     "start_time": "2023-09-07T14:24:17.106630",
     "status": "completed"
    },
    "tags": []
   },
   "outputs": [],
   "source": [
    "types= pd.read_csv('/kaggle/input/pizza-place-sales/pizza_types.csv', index_col=None, header=0, encoding='unicode_escape')"
   ]
  },
  {
   "cell_type": "code",
   "execution_count": 14,
   "id": "86a7e34e",
   "metadata": {
    "execution": {
     "iopub.execute_input": "2023-09-07T14:24:17.205273Z",
     "iopub.status.busy": "2023-09-07T14:24:17.204854Z",
     "iopub.status.idle": "2023-09-07T14:24:17.223601Z",
     "shell.execute_reply": "2023-09-07T14:24:17.222146Z"
    },
    "papermill": {
     "duration": 0.047391,
     "end_time": "2023-09-07T14:24:17.226472",
     "exception": false,
     "start_time": "2023-09-07T14:24:17.179081",
     "status": "completed"
    },
    "tags": []
   },
   "outputs": [
    {
     "data": {
      "text/html": [
       "<div>\n",
       "<style scoped>\n",
       "    .dataframe tbody tr th:only-of-type {\n",
       "        vertical-align: middle;\n",
       "    }\n",
       "\n",
       "    .dataframe tbody tr th {\n",
       "        vertical-align: top;\n",
       "    }\n",
       "\n",
       "    .dataframe thead th {\n",
       "        text-align: right;\n",
       "    }\n",
       "</style>\n",
       "<table border=\"1\" class=\"dataframe\">\n",
       "  <thead>\n",
       "    <tr style=\"text-align: right;\">\n",
       "      <th></th>\n",
       "      <th>pizza_type_id</th>\n",
       "      <th>name</th>\n",
       "      <th>category</th>\n",
       "      <th>ingredients</th>\n",
       "    </tr>\n",
       "  </thead>\n",
       "  <tbody>\n",
       "    <tr>\n",
       "      <th>0</th>\n",
       "      <td>bbq_ckn</td>\n",
       "      <td>The Barbecue Chicken Pizza</td>\n",
       "      <td>Chicken</td>\n",
       "      <td>Barbecued Chicken, Red Peppers, Green Peppers,...</td>\n",
       "    </tr>\n",
       "    <tr>\n",
       "      <th>1</th>\n",
       "      <td>cali_ckn</td>\n",
       "      <td>The California Chicken Pizza</td>\n",
       "      <td>Chicken</td>\n",
       "      <td>Chicken, Artichoke, Spinach, Garlic, Jalapeno ...</td>\n",
       "    </tr>\n",
       "    <tr>\n",
       "      <th>2</th>\n",
       "      <td>ckn_alfredo</td>\n",
       "      <td>The Chicken Alfredo Pizza</td>\n",
       "      <td>Chicken</td>\n",
       "      <td>Chicken, Red Onions, Red Peppers, Mushrooms, A...</td>\n",
       "    </tr>\n",
       "    <tr>\n",
       "      <th>3</th>\n",
       "      <td>ckn_pesto</td>\n",
       "      <td>The Chicken Pesto Pizza</td>\n",
       "      <td>Chicken</td>\n",
       "      <td>Chicken, Tomatoes, Red Peppers, Spinach, Garli...</td>\n",
       "    </tr>\n",
       "    <tr>\n",
       "      <th>4</th>\n",
       "      <td>southw_ckn</td>\n",
       "      <td>The Southwest Chicken Pizza</td>\n",
       "      <td>Chicken</td>\n",
       "      <td>Chicken, Tomatoes, Red Peppers, Red Onions, Ja...</td>\n",
       "    </tr>\n",
       "    <tr>\n",
       "      <th>5</th>\n",
       "      <td>thai_ckn</td>\n",
       "      <td>The Thai Chicken Pizza</td>\n",
       "      <td>Chicken</td>\n",
       "      <td>Chicken, Pineapple, Tomatoes, Red Peppers, Tha...</td>\n",
       "    </tr>\n",
       "    <tr>\n",
       "      <th>6</th>\n",
       "      <td>big_meat</td>\n",
       "      <td>The Big Meat Pizza</td>\n",
       "      <td>Classic</td>\n",
       "      <td>Bacon, Pepperoni, Italian Sausage, Chorizo Sau...</td>\n",
       "    </tr>\n",
       "    <tr>\n",
       "      <th>7</th>\n",
       "      <td>classic_dlx</td>\n",
       "      <td>The Classic Deluxe Pizza</td>\n",
       "      <td>Classic</td>\n",
       "      <td>Pepperoni, Mushrooms, Red Onions, Red Peppers,...</td>\n",
       "    </tr>\n",
       "    <tr>\n",
       "      <th>8</th>\n",
       "      <td>hawaiian</td>\n",
       "      <td>The Hawaiian Pizza</td>\n",
       "      <td>Classic</td>\n",
       "      <td>Sliced Ham, Pineapple, Mozzarella Cheese</td>\n",
       "    </tr>\n",
       "    <tr>\n",
       "      <th>9</th>\n",
       "      <td>ital_cpcllo</td>\n",
       "      <td>The Italian Capocollo Pizza</td>\n",
       "      <td>Classic</td>\n",
       "      <td>Capocollo, Red Peppers, Tomatoes, Goat Cheese,...</td>\n",
       "    </tr>\n",
       "    <tr>\n",
       "      <th>10</th>\n",
       "      <td>napolitana</td>\n",
       "      <td>The Napolitana Pizza</td>\n",
       "      <td>Classic</td>\n",
       "      <td>Tomatoes, Anchovies, Green Olives, Red Onions,...</td>\n",
       "    </tr>\n",
       "    <tr>\n",
       "      <th>11</th>\n",
       "      <td>pep_msh_pep</td>\n",
       "      <td>The Pepperoni, Mushroom, and Peppers Pizza</td>\n",
       "      <td>Classic</td>\n",
       "      <td>Pepperoni, Mushrooms, Green Peppers</td>\n",
       "    </tr>\n",
       "    <tr>\n",
       "      <th>12</th>\n",
       "      <td>pepperoni</td>\n",
       "      <td>The Pepperoni Pizza</td>\n",
       "      <td>Classic</td>\n",
       "      <td>Mozzarella Cheese, Pepperoni</td>\n",
       "    </tr>\n",
       "    <tr>\n",
       "      <th>13</th>\n",
       "      <td>the_greek</td>\n",
       "      <td>The Greek Pizza</td>\n",
       "      <td>Classic</td>\n",
       "      <td>Kalamata Olives, Feta Cheese, Tomatoes, Garlic...</td>\n",
       "    </tr>\n",
       "    <tr>\n",
       "      <th>14</th>\n",
       "      <td>brie_carre</td>\n",
       "      <td>The Brie Carre Pizza</td>\n",
       "      <td>Supreme</td>\n",
       "      <td>Brie Carre Cheese, Prosciutto, Caramelized Oni...</td>\n",
       "    </tr>\n",
       "    <tr>\n",
       "      <th>15</th>\n",
       "      <td>calabrese</td>\n",
       "      <td>The Calabrese Pizza</td>\n",
       "      <td>Supreme</td>\n",
       "      <td>Nduja Salami, Pancetta, Tomatoes, Red Onions,...</td>\n",
       "    </tr>\n",
       "    <tr>\n",
       "      <th>16</th>\n",
       "      <td>ital_supr</td>\n",
       "      <td>The Italian Supreme Pizza</td>\n",
       "      <td>Supreme</td>\n",
       "      <td>Calabrese Salami, Capocollo, Tomatoes, Red Oni...</td>\n",
       "    </tr>\n",
       "    <tr>\n",
       "      <th>17</th>\n",
       "      <td>peppr_salami</td>\n",
       "      <td>The Pepper Salami Pizza</td>\n",
       "      <td>Supreme</td>\n",
       "      <td>Genoa Salami, Capocollo, Pepperoni, Tomatoes, ...</td>\n",
       "    </tr>\n",
       "    <tr>\n",
       "      <th>18</th>\n",
       "      <td>prsc_argla</td>\n",
       "      <td>The Prosciutto and Arugula Pizza</td>\n",
       "      <td>Supreme</td>\n",
       "      <td>Prosciutto di San Daniele, Arugula, Mozzarella...</td>\n",
       "    </tr>\n",
       "    <tr>\n",
       "      <th>19</th>\n",
       "      <td>sicilian</td>\n",
       "      <td>The Sicilian Pizza</td>\n",
       "      <td>Supreme</td>\n",
       "      <td>Coarse Sicilian Salami, Tomatoes, Green Olives...</td>\n",
       "    </tr>\n",
       "    <tr>\n",
       "      <th>20</th>\n",
       "      <td>soppressata</td>\n",
       "      <td>The Soppressata Pizza</td>\n",
       "      <td>Supreme</td>\n",
       "      <td>Soppressata Salami, Fontina Cheese, Mozzarella...</td>\n",
       "    </tr>\n",
       "    <tr>\n",
       "      <th>21</th>\n",
       "      <td>spicy_ital</td>\n",
       "      <td>The Spicy Italian Pizza</td>\n",
       "      <td>Supreme</td>\n",
       "      <td>Capocollo, Tomatoes, Goat Cheese, Artichokes, ...</td>\n",
       "    </tr>\n",
       "    <tr>\n",
       "      <th>22</th>\n",
       "      <td>spinach_supr</td>\n",
       "      <td>The Spinach Supreme Pizza</td>\n",
       "      <td>Supreme</td>\n",
       "      <td>Spinach, Red Onions, Pepperoni, Tomatoes, Arti...</td>\n",
       "    </tr>\n",
       "    <tr>\n",
       "      <th>23</th>\n",
       "      <td>five_cheese</td>\n",
       "      <td>The Five Cheese Pizza</td>\n",
       "      <td>Veggie</td>\n",
       "      <td>Mozzarella Cheese, Provolone Cheese, Smoked Go...</td>\n",
       "    </tr>\n",
       "    <tr>\n",
       "      <th>24</th>\n",
       "      <td>four_cheese</td>\n",
       "      <td>The Four Cheese Pizza</td>\n",
       "      <td>Veggie</td>\n",
       "      <td>Ricotta Cheese, Gorgonzola Piccante Cheese, Mo...</td>\n",
       "    </tr>\n",
       "    <tr>\n",
       "      <th>25</th>\n",
       "      <td>green_garden</td>\n",
       "      <td>The Green Garden Pizza</td>\n",
       "      <td>Veggie</td>\n",
       "      <td>Spinach, Mushrooms, Tomatoes, Green Olives, Fe...</td>\n",
       "    </tr>\n",
       "    <tr>\n",
       "      <th>26</th>\n",
       "      <td>ital_veggie</td>\n",
       "      <td>The Italian Vegetables Pizza</td>\n",
       "      <td>Veggie</td>\n",
       "      <td>Eggplant, Artichokes, Tomatoes, Zucchini, Red ...</td>\n",
       "    </tr>\n",
       "    <tr>\n",
       "      <th>27</th>\n",
       "      <td>mediterraneo</td>\n",
       "      <td>The Mediterranean Pizza</td>\n",
       "      <td>Veggie</td>\n",
       "      <td>Spinach, Artichokes, Kalamata Olives, Sun-drie...</td>\n",
       "    </tr>\n",
       "    <tr>\n",
       "      <th>28</th>\n",
       "      <td>mexicana</td>\n",
       "      <td>The Mexicana Pizza</td>\n",
       "      <td>Veggie</td>\n",
       "      <td>Tomatoes, Red Peppers, Jalapeno Peppers, Red O...</td>\n",
       "    </tr>\n",
       "    <tr>\n",
       "      <th>29</th>\n",
       "      <td>spin_pesto</td>\n",
       "      <td>The Spinach Pesto Pizza</td>\n",
       "      <td>Veggie</td>\n",
       "      <td>Spinach, Artichokes, Tomatoes, Sun-dried Tomat...</td>\n",
       "    </tr>\n",
       "    <tr>\n",
       "      <th>30</th>\n",
       "      <td>spinach_fet</td>\n",
       "      <td>The Spinach and Feta Pizza</td>\n",
       "      <td>Veggie</td>\n",
       "      <td>Spinach, Mushrooms, Red Onions, Feta Cheese, G...</td>\n",
       "    </tr>\n",
       "    <tr>\n",
       "      <th>31</th>\n",
       "      <td>veggie_veg</td>\n",
       "      <td>The Vegetables + Vegetables Pizza</td>\n",
       "      <td>Veggie</td>\n",
       "      <td>Mushrooms, Tomatoes, Red Peppers, Green Pepper...</td>\n",
       "    </tr>\n",
       "  </tbody>\n",
       "</table>\n",
       "</div>"
      ],
      "text/plain": [
       "   pizza_type_id                                        name category  \\\n",
       "0        bbq_ckn                  The Barbecue Chicken Pizza  Chicken   \n",
       "1       cali_ckn                The California Chicken Pizza  Chicken   \n",
       "2    ckn_alfredo                   The Chicken Alfredo Pizza  Chicken   \n",
       "3      ckn_pesto                     The Chicken Pesto Pizza  Chicken   \n",
       "4     southw_ckn                 The Southwest Chicken Pizza  Chicken   \n",
       "5       thai_ckn                      The Thai Chicken Pizza  Chicken   \n",
       "6       big_meat                          The Big Meat Pizza  Classic   \n",
       "7    classic_dlx                    The Classic Deluxe Pizza  Classic   \n",
       "8       hawaiian                          The Hawaiian Pizza  Classic   \n",
       "9    ital_cpcllo                 The Italian Capocollo Pizza  Classic   \n",
       "10    napolitana                        The Napolitana Pizza  Classic   \n",
       "11   pep_msh_pep  The Pepperoni, Mushroom, and Peppers Pizza  Classic   \n",
       "12     pepperoni                         The Pepperoni Pizza  Classic   \n",
       "13     the_greek                             The Greek Pizza  Classic   \n",
       "14    brie_carre                        The Brie Carre Pizza  Supreme   \n",
       "15     calabrese                         The Calabrese Pizza  Supreme   \n",
       "16     ital_supr                   The Italian Supreme Pizza  Supreme   \n",
       "17  peppr_salami                     The Pepper Salami Pizza  Supreme   \n",
       "18    prsc_argla            The Prosciutto and Arugula Pizza  Supreme   \n",
       "19      sicilian                          The Sicilian Pizza  Supreme   \n",
       "20   soppressata                       The Soppressata Pizza  Supreme   \n",
       "21    spicy_ital                     The Spicy Italian Pizza  Supreme   \n",
       "22  spinach_supr                   The Spinach Supreme Pizza  Supreme   \n",
       "23   five_cheese                       The Five Cheese Pizza   Veggie   \n",
       "24   four_cheese                       The Four Cheese Pizza   Veggie   \n",
       "25  green_garden                      The Green Garden Pizza   Veggie   \n",
       "26   ital_veggie                The Italian Vegetables Pizza   Veggie   \n",
       "27  mediterraneo                     The Mediterranean Pizza   Veggie   \n",
       "28      mexicana                          The Mexicana Pizza   Veggie   \n",
       "29    spin_pesto                     The Spinach Pesto Pizza   Veggie   \n",
       "30   spinach_fet                  The Spinach and Feta Pizza   Veggie   \n",
       "31    veggie_veg           The Vegetables + Vegetables Pizza   Veggie   \n",
       "\n",
       "                                          ingredients  \n",
       "0   Barbecued Chicken, Red Peppers, Green Peppers,...  \n",
       "1   Chicken, Artichoke, Spinach, Garlic, Jalapeno ...  \n",
       "2   Chicken, Red Onions, Red Peppers, Mushrooms, A...  \n",
       "3   Chicken, Tomatoes, Red Peppers, Spinach, Garli...  \n",
       "4   Chicken, Tomatoes, Red Peppers, Red Onions, Ja...  \n",
       "5   Chicken, Pineapple, Tomatoes, Red Peppers, Tha...  \n",
       "6   Bacon, Pepperoni, Italian Sausage, Chorizo Sau...  \n",
       "7   Pepperoni, Mushrooms, Red Onions, Red Peppers,...  \n",
       "8            Sliced Ham, Pineapple, Mozzarella Cheese  \n",
       "9   Capocollo, Red Peppers, Tomatoes, Goat Cheese,...  \n",
       "10  Tomatoes, Anchovies, Green Olives, Red Onions,...  \n",
       "11                Pepperoni, Mushrooms, Green Peppers  \n",
       "12                       Mozzarella Cheese, Pepperoni  \n",
       "13  Kalamata Olives, Feta Cheese, Tomatoes, Garlic...  \n",
       "14  Brie Carre Cheese, Prosciutto, Caramelized Oni...  \n",
       "15  Nduja Salami, Pancetta, Tomatoes, Red Onions,...  \n",
       "16  Calabrese Salami, Capocollo, Tomatoes, Red Oni...  \n",
       "17  Genoa Salami, Capocollo, Pepperoni, Tomatoes, ...  \n",
       "18  Prosciutto di San Daniele, Arugula, Mozzarella...  \n",
       "19  Coarse Sicilian Salami, Tomatoes, Green Olives...  \n",
       "20  Soppressata Salami, Fontina Cheese, Mozzarella...  \n",
       "21  Capocollo, Tomatoes, Goat Cheese, Artichokes, ...  \n",
       "22  Spinach, Red Onions, Pepperoni, Tomatoes, Arti...  \n",
       "23  Mozzarella Cheese, Provolone Cheese, Smoked Go...  \n",
       "24  Ricotta Cheese, Gorgonzola Piccante Cheese, Mo...  \n",
       "25  Spinach, Mushrooms, Tomatoes, Green Olives, Fe...  \n",
       "26  Eggplant, Artichokes, Tomatoes, Zucchini, Red ...  \n",
       "27  Spinach, Artichokes, Kalamata Olives, Sun-drie...  \n",
       "28  Tomatoes, Red Peppers, Jalapeno Peppers, Red O...  \n",
       "29  Spinach, Artichokes, Tomatoes, Sun-dried Tomat...  \n",
       "30  Spinach, Mushrooms, Red Onions, Feta Cheese, G...  \n",
       "31  Mushrooms, Tomatoes, Red Peppers, Green Pepper...  "
      ]
     },
     "execution_count": 14,
     "metadata": {},
     "output_type": "execute_result"
    }
   ],
   "source": [
    "types"
   ]
  },
  {
   "cell_type": "code",
   "execution_count": 15,
   "id": "0d5c4f08",
   "metadata": {
    "execution": {
     "iopub.execute_input": "2023-09-07T14:24:17.280972Z",
     "iopub.status.busy": "2023-09-07T14:24:17.280523Z",
     "iopub.status.idle": "2023-09-07T14:24:17.291726Z",
     "shell.execute_reply": "2023-09-07T14:24:17.290791Z"
    },
    "papermill": {
     "duration": 0.040973,
     "end_time": "2023-09-07T14:24:17.294150",
     "exception": false,
     "start_time": "2023-09-07T14:24:17.253177",
     "status": "completed"
    },
    "tags": []
   },
   "outputs": [],
   "source": [
    "p_types=p.merge(types, how='inner', on=['pizza_type_id'])"
   ]
  },
  {
   "cell_type": "code",
   "execution_count": 16,
   "id": "d364d10f",
   "metadata": {
    "execution": {
     "iopub.execute_input": "2023-09-07T14:24:17.347713Z",
     "iopub.status.busy": "2023-09-07T14:24:17.347212Z",
     "iopub.status.idle": "2023-09-07T14:24:17.370977Z",
     "shell.execute_reply": "2023-09-07T14:24:17.369532Z"
    },
    "papermill": {
     "duration": 0.054292,
     "end_time": "2023-09-07T14:24:17.373870",
     "exception": false,
     "start_time": "2023-09-07T14:24:17.319578",
     "status": "completed"
    },
    "tags": []
   },
   "outputs": [
    {
     "data": {
      "text/html": [
       "<div>\n",
       "<style scoped>\n",
       "    .dataframe tbody tr th:only-of-type {\n",
       "        vertical-align: middle;\n",
       "    }\n",
       "\n",
       "    .dataframe tbody tr th {\n",
       "        vertical-align: top;\n",
       "    }\n",
       "\n",
       "    .dataframe thead th {\n",
       "        text-align: right;\n",
       "    }\n",
       "</style>\n",
       "<table border=\"1\" class=\"dataframe\">\n",
       "  <thead>\n",
       "    <tr style=\"text-align: right;\">\n",
       "      <th></th>\n",
       "      <th>pizza_id</th>\n",
       "      <th>pizza_type_id</th>\n",
       "      <th>size</th>\n",
       "      <th>price</th>\n",
       "      <th>name</th>\n",
       "      <th>category</th>\n",
       "      <th>ingredients</th>\n",
       "    </tr>\n",
       "  </thead>\n",
       "  <tbody>\n",
       "    <tr>\n",
       "      <th>0</th>\n",
       "      <td>bbq_ckn_s</td>\n",
       "      <td>bbq_ckn</td>\n",
       "      <td>S</td>\n",
       "      <td>12.75</td>\n",
       "      <td>The Barbecue Chicken Pizza</td>\n",
       "      <td>Chicken</td>\n",
       "      <td>Barbecued Chicken, Red Peppers, Green Peppers,...</td>\n",
       "    </tr>\n",
       "    <tr>\n",
       "      <th>1</th>\n",
       "      <td>bbq_ckn_m</td>\n",
       "      <td>bbq_ckn</td>\n",
       "      <td>M</td>\n",
       "      <td>16.75</td>\n",
       "      <td>The Barbecue Chicken Pizza</td>\n",
       "      <td>Chicken</td>\n",
       "      <td>Barbecued Chicken, Red Peppers, Green Peppers,...</td>\n",
       "    </tr>\n",
       "    <tr>\n",
       "      <th>2</th>\n",
       "      <td>bbq_ckn_l</td>\n",
       "      <td>bbq_ckn</td>\n",
       "      <td>L</td>\n",
       "      <td>20.75</td>\n",
       "      <td>The Barbecue Chicken Pizza</td>\n",
       "      <td>Chicken</td>\n",
       "      <td>Barbecued Chicken, Red Peppers, Green Peppers,...</td>\n",
       "    </tr>\n",
       "    <tr>\n",
       "      <th>3</th>\n",
       "      <td>cali_ckn_s</td>\n",
       "      <td>cali_ckn</td>\n",
       "      <td>S</td>\n",
       "      <td>12.75</td>\n",
       "      <td>The California Chicken Pizza</td>\n",
       "      <td>Chicken</td>\n",
       "      <td>Chicken, Artichoke, Spinach, Garlic, Jalapeno ...</td>\n",
       "    </tr>\n",
       "    <tr>\n",
       "      <th>4</th>\n",
       "      <td>cali_ckn_m</td>\n",
       "      <td>cali_ckn</td>\n",
       "      <td>M</td>\n",
       "      <td>16.75</td>\n",
       "      <td>The California Chicken Pizza</td>\n",
       "      <td>Chicken</td>\n",
       "      <td>Chicken, Artichoke, Spinach, Garlic, Jalapeno ...</td>\n",
       "    </tr>\n",
       "    <tr>\n",
       "      <th>...</th>\n",
       "      <td>...</td>\n",
       "      <td>...</td>\n",
       "      <td>...</td>\n",
       "      <td>...</td>\n",
       "      <td>...</td>\n",
       "      <td>...</td>\n",
       "      <td>...</td>\n",
       "    </tr>\n",
       "    <tr>\n",
       "      <th>91</th>\n",
       "      <td>spinach_fet_m</td>\n",
       "      <td>spinach_fet</td>\n",
       "      <td>M</td>\n",
       "      <td>16.00</td>\n",
       "      <td>The Spinach and Feta Pizza</td>\n",
       "      <td>Veggie</td>\n",
       "      <td>Spinach, Mushrooms, Red Onions, Feta Cheese, G...</td>\n",
       "    </tr>\n",
       "    <tr>\n",
       "      <th>92</th>\n",
       "      <td>spinach_fet_l</td>\n",
       "      <td>spinach_fet</td>\n",
       "      <td>L</td>\n",
       "      <td>20.25</td>\n",
       "      <td>The Spinach and Feta Pizza</td>\n",
       "      <td>Veggie</td>\n",
       "      <td>Spinach, Mushrooms, Red Onions, Feta Cheese, G...</td>\n",
       "    </tr>\n",
       "    <tr>\n",
       "      <th>93</th>\n",
       "      <td>veggie_veg_s</td>\n",
       "      <td>veggie_veg</td>\n",
       "      <td>S</td>\n",
       "      <td>12.00</td>\n",
       "      <td>The Vegetables + Vegetables Pizza</td>\n",
       "      <td>Veggie</td>\n",
       "      <td>Mushrooms, Tomatoes, Red Peppers, Green Pepper...</td>\n",
       "    </tr>\n",
       "    <tr>\n",
       "      <th>94</th>\n",
       "      <td>veggie_veg_m</td>\n",
       "      <td>veggie_veg</td>\n",
       "      <td>M</td>\n",
       "      <td>16.00</td>\n",
       "      <td>The Vegetables + Vegetables Pizza</td>\n",
       "      <td>Veggie</td>\n",
       "      <td>Mushrooms, Tomatoes, Red Peppers, Green Pepper...</td>\n",
       "    </tr>\n",
       "    <tr>\n",
       "      <th>95</th>\n",
       "      <td>veggie_veg_l</td>\n",
       "      <td>veggie_veg</td>\n",
       "      <td>L</td>\n",
       "      <td>20.25</td>\n",
       "      <td>The Vegetables + Vegetables Pizza</td>\n",
       "      <td>Veggie</td>\n",
       "      <td>Mushrooms, Tomatoes, Red Peppers, Green Pepper...</td>\n",
       "    </tr>\n",
       "  </tbody>\n",
       "</table>\n",
       "<p>96 rows × 7 columns</p>\n",
       "</div>"
      ],
      "text/plain": [
       "         pizza_id pizza_type_id size  price  \\\n",
       "0       bbq_ckn_s       bbq_ckn    S  12.75   \n",
       "1       bbq_ckn_m       bbq_ckn    M  16.75   \n",
       "2       bbq_ckn_l       bbq_ckn    L  20.75   \n",
       "3      cali_ckn_s      cali_ckn    S  12.75   \n",
       "4      cali_ckn_m      cali_ckn    M  16.75   \n",
       "..            ...           ...  ...    ...   \n",
       "91  spinach_fet_m   spinach_fet    M  16.00   \n",
       "92  spinach_fet_l   spinach_fet    L  20.25   \n",
       "93   veggie_veg_s    veggie_veg    S  12.00   \n",
       "94   veggie_veg_m    veggie_veg    M  16.00   \n",
       "95   veggie_veg_l    veggie_veg    L  20.25   \n",
       "\n",
       "                                 name category  \\\n",
       "0          The Barbecue Chicken Pizza  Chicken   \n",
       "1          The Barbecue Chicken Pizza  Chicken   \n",
       "2          The Barbecue Chicken Pizza  Chicken   \n",
       "3        The California Chicken Pizza  Chicken   \n",
       "4        The California Chicken Pizza  Chicken   \n",
       "..                                ...      ...   \n",
       "91         The Spinach and Feta Pizza   Veggie   \n",
       "92         The Spinach and Feta Pizza   Veggie   \n",
       "93  The Vegetables + Vegetables Pizza   Veggie   \n",
       "94  The Vegetables + Vegetables Pizza   Veggie   \n",
       "95  The Vegetables + Vegetables Pizza   Veggie   \n",
       "\n",
       "                                          ingredients  \n",
       "0   Barbecued Chicken, Red Peppers, Green Peppers,...  \n",
       "1   Barbecued Chicken, Red Peppers, Green Peppers,...  \n",
       "2   Barbecued Chicken, Red Peppers, Green Peppers,...  \n",
       "3   Chicken, Artichoke, Spinach, Garlic, Jalapeno ...  \n",
       "4   Chicken, Artichoke, Spinach, Garlic, Jalapeno ...  \n",
       "..                                                ...  \n",
       "91  Spinach, Mushrooms, Red Onions, Feta Cheese, G...  \n",
       "92  Spinach, Mushrooms, Red Onions, Feta Cheese, G...  \n",
       "93  Mushrooms, Tomatoes, Red Peppers, Green Pepper...  \n",
       "94  Mushrooms, Tomatoes, Red Peppers, Green Pepper...  \n",
       "95  Mushrooms, Tomatoes, Red Peppers, Green Pepper...  \n",
       "\n",
       "[96 rows x 7 columns]"
      ]
     },
     "execution_count": 16,
     "metadata": {},
     "output_type": "execute_result"
    }
   ],
   "source": [
    "p_types"
   ]
  },
  {
   "cell_type": "code",
   "execution_count": 17,
   "id": "c7e29b58",
   "metadata": {
    "execution": {
     "iopub.execute_input": "2023-09-07T14:24:17.428136Z",
     "iopub.status.busy": "2023-09-07T14:24:17.427715Z",
     "iopub.status.idle": "2023-09-07T14:24:17.442510Z",
     "shell.execute_reply": "2023-09-07T14:24:17.441214Z"
    },
    "papermill": {
     "duration": 0.04547,
     "end_time": "2023-09-07T14:24:17.445147",
     "exception": false,
     "start_time": "2023-09-07T14:24:17.399677",
     "status": "completed"
    },
    "tags": []
   },
   "outputs": [
    {
     "name": "stdout",
     "output_type": "stream",
     "text": [
      "<class 'pandas.core.frame.DataFrame'>\n",
      "Int64Index: 96 entries, 0 to 95\n",
      "Data columns (total 7 columns):\n",
      " #   Column         Non-Null Count  Dtype  \n",
      "---  ------         --------------  -----  \n",
      " 0   pizza_id       96 non-null     object \n",
      " 1   pizza_type_id  96 non-null     object \n",
      " 2   size           96 non-null     object \n",
      " 3   price          96 non-null     float64\n",
      " 4   name           96 non-null     object \n",
      " 5   category       96 non-null     object \n",
      " 6   ingredients    96 non-null     object \n",
      "dtypes: float64(1), object(6)\n",
      "memory usage: 6.0+ KB\n"
     ]
    }
   ],
   "source": [
    "p_types.info()"
   ]
  },
  {
   "cell_type": "code",
   "execution_count": 18,
   "id": "40bd2548",
   "metadata": {
    "execution": {
     "iopub.execute_input": "2023-09-07T14:24:17.499777Z",
     "iopub.status.busy": "2023-09-07T14:24:17.499332Z",
     "iopub.status.idle": "2023-09-07T14:24:17.510059Z",
     "shell.execute_reply": "2023-09-07T14:24:17.508816Z"
    },
    "papermill": {
     "duration": 0.040727,
     "end_time": "2023-09-07T14:24:17.512619",
     "exception": false,
     "start_time": "2023-09-07T14:24:17.471892",
     "status": "completed"
    },
    "tags": []
   },
   "outputs": [
    {
     "data": {
      "text/plain": [
       "pizza_id         0\n",
       "pizza_type_id    0\n",
       "size             0\n",
       "price            0\n",
       "name             0\n",
       "category         0\n",
       "ingredients      0\n",
       "dtype: int64"
      ]
     },
     "execution_count": 18,
     "metadata": {},
     "output_type": "execute_result"
    }
   ],
   "source": [
    "p_types.isnull().sum()"
   ]
  },
  {
   "cell_type": "markdown",
   "id": "52826cec",
   "metadata": {
    "papermill": {
     "duration": 0.025107,
     "end_time": "2023-09-07T14:24:17.563940",
     "exception": false,
     "start_time": "2023-09-07T14:24:17.538833",
     "status": "completed"
    },
    "tags": []
   },
   "source": [
    "# **Final data-frame merging all sheets**"
   ]
  },
  {
   "cell_type": "code",
   "execution_count": 19,
   "id": "e41c632a",
   "metadata": {
    "execution": {
     "iopub.execute_input": "2023-09-07T14:24:17.619119Z",
     "iopub.status.busy": "2023-09-07T14:24:17.618658Z",
     "iopub.status.idle": "2023-09-07T14:24:17.654149Z",
     "shell.execute_reply": "2023-09-07T14:24:17.652921Z"
    },
    "papermill": {
     "duration": 0.067256,
     "end_time": "2023-09-07T14:24:17.657457",
     "exception": false,
     "start_time": "2023-09-07T14:24:17.590201",
     "status": "completed"
    },
    "tags": []
   },
   "outputs": [],
   "source": [
    "final=orders.merge(p_types,how='inner', on=['pizza_id']) "
   ]
  },
  {
   "cell_type": "code",
   "execution_count": 20,
   "id": "87aadf2b",
   "metadata": {
    "execution": {
     "iopub.execute_input": "2023-09-07T14:24:17.711721Z",
     "iopub.status.busy": "2023-09-07T14:24:17.711250Z",
     "iopub.status.idle": "2023-09-07T14:24:17.738919Z",
     "shell.execute_reply": "2023-09-07T14:24:17.738001Z"
    },
    "papermill": {
     "duration": 0.058239,
     "end_time": "2023-09-07T14:24:17.741585",
     "exception": false,
     "start_time": "2023-09-07T14:24:17.683346",
     "status": "completed"
    },
    "tags": []
   },
   "outputs": [
    {
     "data": {
      "text/html": [
       "<div>\n",
       "<style scoped>\n",
       "    .dataframe tbody tr th:only-of-type {\n",
       "        vertical-align: middle;\n",
       "    }\n",
       "\n",
       "    .dataframe tbody tr th {\n",
       "        vertical-align: top;\n",
       "    }\n",
       "\n",
       "    .dataframe thead th {\n",
       "        text-align: right;\n",
       "    }\n",
       "</style>\n",
       "<table border=\"1\" class=\"dataframe\">\n",
       "  <thead>\n",
       "    <tr style=\"text-align: right;\">\n",
       "      <th></th>\n",
       "      <th>order_details_id</th>\n",
       "      <th>order_id</th>\n",
       "      <th>pizza_id</th>\n",
       "      <th>quantity</th>\n",
       "      <th>date</th>\n",
       "      <th>time</th>\n",
       "      <th>pizza_type_id</th>\n",
       "      <th>size</th>\n",
       "      <th>price</th>\n",
       "      <th>name</th>\n",
       "      <th>category</th>\n",
       "      <th>ingredients</th>\n",
       "    </tr>\n",
       "  </thead>\n",
       "  <tbody>\n",
       "    <tr>\n",
       "      <th>0</th>\n",
       "      <td>1</td>\n",
       "      <td>1</td>\n",
       "      <td>hawaiian_m</td>\n",
       "      <td>1</td>\n",
       "      <td>2015-01-01</td>\n",
       "      <td>11:38:36</td>\n",
       "      <td>hawaiian</td>\n",
       "      <td>M</td>\n",
       "      <td>13.25</td>\n",
       "      <td>The Hawaiian Pizza</td>\n",
       "      <td>Classic</td>\n",
       "      <td>Sliced Ham, Pineapple, Mozzarella Cheese</td>\n",
       "    </tr>\n",
       "    <tr>\n",
       "      <th>1</th>\n",
       "      <td>179</td>\n",
       "      <td>77</td>\n",
       "      <td>hawaiian_m</td>\n",
       "      <td>1</td>\n",
       "      <td>2015-01-02</td>\n",
       "      <td>12:22:46</td>\n",
       "      <td>hawaiian</td>\n",
       "      <td>M</td>\n",
       "      <td>13.25</td>\n",
       "      <td>The Hawaiian Pizza</td>\n",
       "      <td>Classic</td>\n",
       "      <td>Sliced Ham, Pineapple, Mozzarella Cheese</td>\n",
       "    </tr>\n",
       "    <tr>\n",
       "      <th>2</th>\n",
       "      <td>357</td>\n",
       "      <td>146</td>\n",
       "      <td>hawaiian_m</td>\n",
       "      <td>1</td>\n",
       "      <td>2015-01-03</td>\n",
       "      <td>14:22:10</td>\n",
       "      <td>hawaiian</td>\n",
       "      <td>M</td>\n",
       "      <td>13.25</td>\n",
       "      <td>The Hawaiian Pizza</td>\n",
       "      <td>Classic</td>\n",
       "      <td>Sliced Ham, Pineapple, Mozzarella Cheese</td>\n",
       "    </tr>\n",
       "    <tr>\n",
       "      <th>3</th>\n",
       "      <td>389</td>\n",
       "      <td>163</td>\n",
       "      <td>hawaiian_m</td>\n",
       "      <td>1</td>\n",
       "      <td>2015-01-03</td>\n",
       "      <td>16:54:54</td>\n",
       "      <td>hawaiian</td>\n",
       "      <td>M</td>\n",
       "      <td>13.25</td>\n",
       "      <td>The Hawaiian Pizza</td>\n",
       "      <td>Classic</td>\n",
       "      <td>Sliced Ham, Pineapple, Mozzarella Cheese</td>\n",
       "    </tr>\n",
       "    <tr>\n",
       "      <th>4</th>\n",
       "      <td>568</td>\n",
       "      <td>247</td>\n",
       "      <td>hawaiian_m</td>\n",
       "      <td>1</td>\n",
       "      <td>2015-01-04</td>\n",
       "      <td>20:55:29</td>\n",
       "      <td>hawaiian</td>\n",
       "      <td>M</td>\n",
       "      <td>13.25</td>\n",
       "      <td>The Hawaiian Pizza</td>\n",
       "      <td>Classic</td>\n",
       "      <td>Sliced Ham, Pineapple, Mozzarella Cheese</td>\n",
       "    </tr>\n",
       "    <tr>\n",
       "      <th>...</th>\n",
       "      <td>...</td>\n",
       "      <td>...</td>\n",
       "      <td>...</td>\n",
       "      <td>...</td>\n",
       "      <td>...</td>\n",
       "      <td>...</td>\n",
       "      <td>...</td>\n",
       "      <td>...</td>\n",
       "      <td>...</td>\n",
       "      <td>...</td>\n",
       "      <td>...</td>\n",
       "      <td>...</td>\n",
       "    </tr>\n",
       "    <tr>\n",
       "      <th>48615</th>\n",
       "      <td>39733</td>\n",
       "      <td>17492</td>\n",
       "      <td>the_greek_xxl</td>\n",
       "      <td>1</td>\n",
       "      <td>2015-10-24</td>\n",
       "      <td>18:58:20</td>\n",
       "      <td>the_greek</td>\n",
       "      <td>XXL</td>\n",
       "      <td>35.95</td>\n",
       "      <td>The Greek Pizza</td>\n",
       "      <td>Classic</td>\n",
       "      <td>Kalamata Olives, Feta Cheese, Tomatoes, Garlic...</td>\n",
       "    </tr>\n",
       "    <tr>\n",
       "      <th>48616</th>\n",
       "      <td>41183</td>\n",
       "      <td>18139</td>\n",
       "      <td>the_greek_xxl</td>\n",
       "      <td>1</td>\n",
       "      <td>2015-11-05</td>\n",
       "      <td>20:28:52</td>\n",
       "      <td>the_greek</td>\n",
       "      <td>XXL</td>\n",
       "      <td>35.95</td>\n",
       "      <td>The Greek Pizza</td>\n",
       "      <td>Classic</td>\n",
       "      <td>Kalamata Olives, Feta Cheese, Tomatoes, Garlic...</td>\n",
       "    </tr>\n",
       "    <tr>\n",
       "      <th>48617</th>\n",
       "      <td>42718</td>\n",
       "      <td>18789</td>\n",
       "      <td>the_greek_xxl</td>\n",
       "      <td>1</td>\n",
       "      <td>2015-11-17</td>\n",
       "      <td>11:23:51</td>\n",
       "      <td>the_greek</td>\n",
       "      <td>XXL</td>\n",
       "      <td>35.95</td>\n",
       "      <td>The Greek Pizza</td>\n",
       "      <td>Classic</td>\n",
       "      <td>Kalamata Olives, Feta Cheese, Tomatoes, Garlic...</td>\n",
       "    </tr>\n",
       "    <tr>\n",
       "      <th>48618</th>\n",
       "      <td>43041</td>\n",
       "      <td>18919</td>\n",
       "      <td>the_greek_xxl</td>\n",
       "      <td>1</td>\n",
       "      <td>2015-11-19</td>\n",
       "      <td>16:58:26</td>\n",
       "      <td>the_greek</td>\n",
       "      <td>XXL</td>\n",
       "      <td>35.95</td>\n",
       "      <td>The Greek Pizza</td>\n",
       "      <td>Classic</td>\n",
       "      <td>Kalamata Olives, Feta Cheese, Tomatoes, Garlic...</td>\n",
       "    </tr>\n",
       "    <tr>\n",
       "      <th>48619</th>\n",
       "      <td>47490</td>\n",
       "      <td>20866</td>\n",
       "      <td>the_greek_xxl</td>\n",
       "      <td>1</td>\n",
       "      <td>2015-12-20</td>\n",
       "      <td>19:16:20</td>\n",
       "      <td>the_greek</td>\n",
       "      <td>XXL</td>\n",
       "      <td>35.95</td>\n",
       "      <td>The Greek Pizza</td>\n",
       "      <td>Classic</td>\n",
       "      <td>Kalamata Olives, Feta Cheese, Tomatoes, Garlic...</td>\n",
       "    </tr>\n",
       "  </tbody>\n",
       "</table>\n",
       "<p>48620 rows × 12 columns</p>\n",
       "</div>"
      ],
      "text/plain": [
       "       order_details_id  order_id       pizza_id  quantity        date  \\\n",
       "0                     1         1     hawaiian_m         1  2015-01-01   \n",
       "1                   179        77     hawaiian_m         1  2015-01-02   \n",
       "2                   357       146     hawaiian_m         1  2015-01-03   \n",
       "3                   389       163     hawaiian_m         1  2015-01-03   \n",
       "4                   568       247     hawaiian_m         1  2015-01-04   \n",
       "...                 ...       ...            ...       ...         ...   \n",
       "48615             39733     17492  the_greek_xxl         1  2015-10-24   \n",
       "48616             41183     18139  the_greek_xxl         1  2015-11-05   \n",
       "48617             42718     18789  the_greek_xxl         1  2015-11-17   \n",
       "48618             43041     18919  the_greek_xxl         1  2015-11-19   \n",
       "48619             47490     20866  the_greek_xxl         1  2015-12-20   \n",
       "\n",
       "           time pizza_type_id size  price                name category  \\\n",
       "0      11:38:36      hawaiian    M  13.25  The Hawaiian Pizza  Classic   \n",
       "1      12:22:46      hawaiian    M  13.25  The Hawaiian Pizza  Classic   \n",
       "2      14:22:10      hawaiian    M  13.25  The Hawaiian Pizza  Classic   \n",
       "3      16:54:54      hawaiian    M  13.25  The Hawaiian Pizza  Classic   \n",
       "4      20:55:29      hawaiian    M  13.25  The Hawaiian Pizza  Classic   \n",
       "...         ...           ...  ...    ...                 ...      ...   \n",
       "48615  18:58:20     the_greek  XXL  35.95     The Greek Pizza  Classic   \n",
       "48616  20:28:52     the_greek  XXL  35.95     The Greek Pizza  Classic   \n",
       "48617  11:23:51     the_greek  XXL  35.95     The Greek Pizza  Classic   \n",
       "48618  16:58:26     the_greek  XXL  35.95     The Greek Pizza  Classic   \n",
       "48619  19:16:20     the_greek  XXL  35.95     The Greek Pizza  Classic   \n",
       "\n",
       "                                             ingredients  \n",
       "0               Sliced Ham, Pineapple, Mozzarella Cheese  \n",
       "1               Sliced Ham, Pineapple, Mozzarella Cheese  \n",
       "2               Sliced Ham, Pineapple, Mozzarella Cheese  \n",
       "3               Sliced Ham, Pineapple, Mozzarella Cheese  \n",
       "4               Sliced Ham, Pineapple, Mozzarella Cheese  \n",
       "...                                                  ...  \n",
       "48615  Kalamata Olives, Feta Cheese, Tomatoes, Garlic...  \n",
       "48616  Kalamata Olives, Feta Cheese, Tomatoes, Garlic...  \n",
       "48617  Kalamata Olives, Feta Cheese, Tomatoes, Garlic...  \n",
       "48618  Kalamata Olives, Feta Cheese, Tomatoes, Garlic...  \n",
       "48619  Kalamata Olives, Feta Cheese, Tomatoes, Garlic...  \n",
       "\n",
       "[48620 rows x 12 columns]"
      ]
     },
     "execution_count": 20,
     "metadata": {},
     "output_type": "execute_result"
    }
   ],
   "source": [
    "final"
   ]
  },
  {
   "cell_type": "code",
   "execution_count": 21,
   "id": "d787889b",
   "metadata": {
    "execution": {
     "iopub.execute_input": "2023-09-07T14:24:17.797776Z",
     "iopub.status.busy": "2023-09-07T14:24:17.797013Z",
     "iopub.status.idle": "2023-09-07T14:24:17.854858Z",
     "shell.execute_reply": "2023-09-07T14:24:17.853535Z"
    },
    "papermill": {
     "duration": 0.089586,
     "end_time": "2023-09-07T14:24:17.857696",
     "exception": false,
     "start_time": "2023-09-07T14:24:17.768110",
     "status": "completed"
    },
    "tags": []
   },
   "outputs": [
    {
     "data": {
      "text/plain": [
       "order_details_id    0\n",
       "order_id            0\n",
       "pizza_id            0\n",
       "quantity            0\n",
       "date                0\n",
       "time                0\n",
       "pizza_type_id       0\n",
       "size                0\n",
       "price               0\n",
       "name                0\n",
       "category            0\n",
       "ingredients         0\n",
       "dtype: int64"
      ]
     },
     "execution_count": 21,
     "metadata": {},
     "output_type": "execute_result"
    }
   ],
   "source": [
    "final.isnull().sum()"
   ]
  },
  {
   "cell_type": "code",
   "execution_count": 22,
   "id": "59ad8909",
   "metadata": {
    "execution": {
     "iopub.execute_input": "2023-09-07T14:24:17.916259Z",
     "iopub.status.busy": "2023-09-07T14:24:17.915777Z",
     "iopub.status.idle": "2023-09-07T14:24:17.940911Z",
     "shell.execute_reply": "2023-09-07T14:24:17.939582Z"
    },
    "papermill": {
     "duration": 0.059779,
     "end_time": "2023-09-07T14:24:17.943972",
     "exception": false,
     "start_time": "2023-09-07T14:24:17.884193",
     "status": "completed"
    },
    "tags": []
   },
   "outputs": [],
   "source": [
    "finaldf=final.sort_values(by=['order_details_id'])"
   ]
  },
  {
   "cell_type": "code",
   "execution_count": 23,
   "id": "ab7560ff",
   "metadata": {
    "execution": {
     "iopub.execute_input": "2023-09-07T14:24:17.998715Z",
     "iopub.status.busy": "2023-09-07T14:24:17.997987Z",
     "iopub.status.idle": "2023-09-07T14:24:18.049746Z",
     "shell.execute_reply": "2023-09-07T14:24:18.048371Z"
    },
    "papermill": {
     "duration": 0.08221,
     "end_time": "2023-09-07T14:24:18.052465",
     "exception": false,
     "start_time": "2023-09-07T14:24:17.970255",
     "status": "completed"
    },
    "tags": []
   },
   "outputs": [
    {
     "data": {
      "text/html": [
       "<div>\n",
       "<style scoped>\n",
       "    .dataframe tbody tr th:only-of-type {\n",
       "        vertical-align: middle;\n",
       "    }\n",
       "\n",
       "    .dataframe tbody tr th {\n",
       "        vertical-align: top;\n",
       "    }\n",
       "\n",
       "    .dataframe thead th {\n",
       "        text-align: right;\n",
       "    }\n",
       "</style>\n",
       "<table border=\"1\" class=\"dataframe\">\n",
       "  <thead>\n",
       "    <tr style=\"text-align: right;\">\n",
       "      <th></th>\n",
       "      <th>order_id</th>\n",
       "      <th>pizza_id</th>\n",
       "      <th>quantity</th>\n",
       "      <th>date</th>\n",
       "      <th>time</th>\n",
       "      <th>pizza_type_id</th>\n",
       "      <th>size</th>\n",
       "      <th>price</th>\n",
       "      <th>name</th>\n",
       "      <th>category</th>\n",
       "      <th>ingredients</th>\n",
       "    </tr>\n",
       "    <tr>\n",
       "      <th>order_details_id</th>\n",
       "      <th></th>\n",
       "      <th></th>\n",
       "      <th></th>\n",
       "      <th></th>\n",
       "      <th></th>\n",
       "      <th></th>\n",
       "      <th></th>\n",
       "      <th></th>\n",
       "      <th></th>\n",
       "      <th></th>\n",
       "      <th></th>\n",
       "    </tr>\n",
       "  </thead>\n",
       "  <tbody>\n",
       "    <tr>\n",
       "      <th>1</th>\n",
       "      <td>1</td>\n",
       "      <td>hawaiian_m</td>\n",
       "      <td>1</td>\n",
       "      <td>2015-01-01</td>\n",
       "      <td>11:38:36</td>\n",
       "      <td>hawaiian</td>\n",
       "      <td>M</td>\n",
       "      <td>13.25</td>\n",
       "      <td>The Hawaiian Pizza</td>\n",
       "      <td>Classic</td>\n",
       "      <td>Sliced Ham, Pineapple, Mozzarella Cheese</td>\n",
       "    </tr>\n",
       "    <tr>\n",
       "      <th>2</th>\n",
       "      <td>2</td>\n",
       "      <td>classic_dlx_m</td>\n",
       "      <td>1</td>\n",
       "      <td>2015-01-01</td>\n",
       "      <td>11:57:40</td>\n",
       "      <td>classic_dlx</td>\n",
       "      <td>M</td>\n",
       "      <td>16.00</td>\n",
       "      <td>The Classic Deluxe Pizza</td>\n",
       "      <td>Classic</td>\n",
       "      <td>Pepperoni, Mushrooms, Red Onions, Red Peppers,...</td>\n",
       "    </tr>\n",
       "    <tr>\n",
       "      <th>3</th>\n",
       "      <td>2</td>\n",
       "      <td>five_cheese_l</td>\n",
       "      <td>1</td>\n",
       "      <td>2015-01-01</td>\n",
       "      <td>11:57:40</td>\n",
       "      <td>five_cheese</td>\n",
       "      <td>L</td>\n",
       "      <td>18.50</td>\n",
       "      <td>The Five Cheese Pizza</td>\n",
       "      <td>Veggie</td>\n",
       "      <td>Mozzarella Cheese, Provolone Cheese, Smoked Go...</td>\n",
       "    </tr>\n",
       "    <tr>\n",
       "      <th>4</th>\n",
       "      <td>2</td>\n",
       "      <td>ital_supr_l</td>\n",
       "      <td>1</td>\n",
       "      <td>2015-01-01</td>\n",
       "      <td>11:57:40</td>\n",
       "      <td>ital_supr</td>\n",
       "      <td>L</td>\n",
       "      <td>20.75</td>\n",
       "      <td>The Italian Supreme Pizza</td>\n",
       "      <td>Supreme</td>\n",
       "      <td>Calabrese Salami, Capocollo, Tomatoes, Red Oni...</td>\n",
       "    </tr>\n",
       "    <tr>\n",
       "      <th>5</th>\n",
       "      <td>2</td>\n",
       "      <td>mexicana_m</td>\n",
       "      <td>1</td>\n",
       "      <td>2015-01-01</td>\n",
       "      <td>11:57:40</td>\n",
       "      <td>mexicana</td>\n",
       "      <td>M</td>\n",
       "      <td>16.00</td>\n",
       "      <td>The Mexicana Pizza</td>\n",
       "      <td>Veggie</td>\n",
       "      <td>Tomatoes, Red Peppers, Jalapeno Peppers, Red O...</td>\n",
       "    </tr>\n",
       "    <tr>\n",
       "      <th>...</th>\n",
       "      <td>...</td>\n",
       "      <td>...</td>\n",
       "      <td>...</td>\n",
       "      <td>...</td>\n",
       "      <td>...</td>\n",
       "      <td>...</td>\n",
       "      <td>...</td>\n",
       "      <td>...</td>\n",
       "      <td>...</td>\n",
       "      <td>...</td>\n",
       "      <td>...</td>\n",
       "    </tr>\n",
       "    <tr>\n",
       "      <th>48616</th>\n",
       "      <td>21348</td>\n",
       "      <td>ckn_alfredo_m</td>\n",
       "      <td>1</td>\n",
       "      <td>2015-12-31</td>\n",
       "      <td>21:23:10</td>\n",
       "      <td>ckn_alfredo</td>\n",
       "      <td>M</td>\n",
       "      <td>16.75</td>\n",
       "      <td>The Chicken Alfredo Pizza</td>\n",
       "      <td>Chicken</td>\n",
       "      <td>Chicken, Red Onions, Red Peppers, Mushrooms, A...</td>\n",
       "    </tr>\n",
       "    <tr>\n",
       "      <th>48617</th>\n",
       "      <td>21348</td>\n",
       "      <td>four_cheese_l</td>\n",
       "      <td>1</td>\n",
       "      <td>2015-12-31</td>\n",
       "      <td>21:23:10</td>\n",
       "      <td>four_cheese</td>\n",
       "      <td>L</td>\n",
       "      <td>17.95</td>\n",
       "      <td>The Four Cheese Pizza</td>\n",
       "      <td>Veggie</td>\n",
       "      <td>Ricotta Cheese, Gorgonzola Piccante Cheese, Mo...</td>\n",
       "    </tr>\n",
       "    <tr>\n",
       "      <th>48618</th>\n",
       "      <td>21348</td>\n",
       "      <td>napolitana_s</td>\n",
       "      <td>1</td>\n",
       "      <td>2015-12-31</td>\n",
       "      <td>21:23:10</td>\n",
       "      <td>napolitana</td>\n",
       "      <td>S</td>\n",
       "      <td>12.00</td>\n",
       "      <td>The Napolitana Pizza</td>\n",
       "      <td>Classic</td>\n",
       "      <td>Tomatoes, Anchovies, Green Olives, Red Onions,...</td>\n",
       "    </tr>\n",
       "    <tr>\n",
       "      <th>48619</th>\n",
       "      <td>21349</td>\n",
       "      <td>mexicana_l</td>\n",
       "      <td>1</td>\n",
       "      <td>2015-12-31</td>\n",
       "      <td>22:09:54</td>\n",
       "      <td>mexicana</td>\n",
       "      <td>L</td>\n",
       "      <td>20.25</td>\n",
       "      <td>The Mexicana Pizza</td>\n",
       "      <td>Veggie</td>\n",
       "      <td>Tomatoes, Red Peppers, Jalapeno Peppers, Red O...</td>\n",
       "    </tr>\n",
       "    <tr>\n",
       "      <th>48620</th>\n",
       "      <td>21350</td>\n",
       "      <td>bbq_ckn_s</td>\n",
       "      <td>1</td>\n",
       "      <td>2015-12-31</td>\n",
       "      <td>23:02:05</td>\n",
       "      <td>bbq_ckn</td>\n",
       "      <td>S</td>\n",
       "      <td>12.75</td>\n",
       "      <td>The Barbecue Chicken Pizza</td>\n",
       "      <td>Chicken</td>\n",
       "      <td>Barbecued Chicken, Red Peppers, Green Peppers,...</td>\n",
       "    </tr>\n",
       "  </tbody>\n",
       "</table>\n",
       "<p>48620 rows × 11 columns</p>\n",
       "</div>"
      ],
      "text/plain": [
       "                  order_id       pizza_id  quantity        date      time  \\\n",
       "order_details_id                                                            \n",
       "1                        1     hawaiian_m         1  2015-01-01  11:38:36   \n",
       "2                        2  classic_dlx_m         1  2015-01-01  11:57:40   \n",
       "3                        2  five_cheese_l         1  2015-01-01  11:57:40   \n",
       "4                        2    ital_supr_l         1  2015-01-01  11:57:40   \n",
       "5                        2     mexicana_m         1  2015-01-01  11:57:40   \n",
       "...                    ...            ...       ...         ...       ...   \n",
       "48616                21348  ckn_alfredo_m         1  2015-12-31  21:23:10   \n",
       "48617                21348  four_cheese_l         1  2015-12-31  21:23:10   \n",
       "48618                21348   napolitana_s         1  2015-12-31  21:23:10   \n",
       "48619                21349     mexicana_l         1  2015-12-31  22:09:54   \n",
       "48620                21350      bbq_ckn_s         1  2015-12-31  23:02:05   \n",
       "\n",
       "                 pizza_type_id size  price                        name  \\\n",
       "order_details_id                                                         \n",
       "1                     hawaiian    M  13.25          The Hawaiian Pizza   \n",
       "2                  classic_dlx    M  16.00    The Classic Deluxe Pizza   \n",
       "3                  five_cheese    L  18.50       The Five Cheese Pizza   \n",
       "4                    ital_supr    L  20.75   The Italian Supreme Pizza   \n",
       "5                     mexicana    M  16.00          The Mexicana Pizza   \n",
       "...                        ...  ...    ...                         ...   \n",
       "48616              ckn_alfredo    M  16.75   The Chicken Alfredo Pizza   \n",
       "48617              four_cheese    L  17.95       The Four Cheese Pizza   \n",
       "48618               napolitana    S  12.00        The Napolitana Pizza   \n",
       "48619                 mexicana    L  20.25          The Mexicana Pizza   \n",
       "48620                  bbq_ckn    S  12.75  The Barbecue Chicken Pizza   \n",
       "\n",
       "                 category                                        ingredients  \n",
       "order_details_id                                                              \n",
       "1                 Classic           Sliced Ham, Pineapple, Mozzarella Cheese  \n",
       "2                 Classic  Pepperoni, Mushrooms, Red Onions, Red Peppers,...  \n",
       "3                  Veggie  Mozzarella Cheese, Provolone Cheese, Smoked Go...  \n",
       "4                 Supreme  Calabrese Salami, Capocollo, Tomatoes, Red Oni...  \n",
       "5                  Veggie  Tomatoes, Red Peppers, Jalapeno Peppers, Red O...  \n",
       "...                   ...                                                ...  \n",
       "48616             Chicken  Chicken, Red Onions, Red Peppers, Mushrooms, A...  \n",
       "48617              Veggie  Ricotta Cheese, Gorgonzola Piccante Cheese, Mo...  \n",
       "48618             Classic  Tomatoes, Anchovies, Green Olives, Red Onions,...  \n",
       "48619              Veggie  Tomatoes, Red Peppers, Jalapeno Peppers, Red O...  \n",
       "48620             Chicken  Barbecued Chicken, Red Peppers, Green Peppers,...  \n",
       "\n",
       "[48620 rows x 11 columns]"
      ]
     },
     "execution_count": 23,
     "metadata": {},
     "output_type": "execute_result"
    }
   ],
   "source": [
    "finaldf.set_index(['order_details_id'])"
   ]
  },
  {
   "cell_type": "markdown",
   "id": "a3bc4f4f",
   "metadata": {
    "papermill": {
     "duration": 0.026881,
     "end_time": "2023-09-07T14:24:18.106477",
     "exception": false,
     "start_time": "2023-09-07T14:24:18.079596",
     "status": "completed"
    },
    "tags": []
   },
   "source": [
    "## **Months** "
   ]
  },
  {
   "cell_type": "code",
   "execution_count": 24,
   "id": "14b9f704",
   "metadata": {
    "execution": {
     "iopub.execute_input": "2023-09-07T14:24:18.164920Z",
     "iopub.status.busy": "2023-09-07T14:24:18.163986Z",
     "iopub.status.idle": "2023-09-07T14:24:18.189973Z",
     "shell.execute_reply": "2023-09-07T14:24:18.188771Z"
    },
    "papermill": {
     "duration": 0.058827,
     "end_time": "2023-09-07T14:24:18.193286",
     "exception": false,
     "start_time": "2023-09-07T14:24:18.134459",
     "status": "completed"
    },
    "tags": []
   },
   "outputs": [],
   "source": [
    "finaldf['Months'] = pd.to_datetime(finaldf['date'], infer_datetime_format=True).dt.month"
   ]
  },
  {
   "cell_type": "markdown",
   "id": "9ad72690",
   "metadata": {
    "papermill": {
     "duration": 0.02658,
     "end_time": "2023-09-07T14:24:18.247975",
     "exception": false,
     "start_time": "2023-09-07T14:24:18.221395",
     "status": "completed"
    },
    "tags": []
   },
   "source": [
    "## **Time**"
   ]
  },
  {
   "cell_type": "code",
   "execution_count": 25,
   "id": "ac5a9211",
   "metadata": {
    "execution": {
     "iopub.execute_input": "2023-09-07T14:24:18.305896Z",
     "iopub.status.busy": "2023-09-07T14:24:18.305466Z",
     "iopub.status.idle": "2023-09-07T14:24:19.346520Z",
     "shell.execute_reply": "2023-09-07T14:24:19.345177Z"
    },
    "papermill": {
     "duration": 1.07308,
     "end_time": "2023-09-07T14:24:19.349580",
     "exception": false,
     "start_time": "2023-09-07T14:24:18.276500",
     "status": "completed"
    },
    "tags": []
   },
   "outputs": [],
   "source": [
    "finaldf['hours'] = pd.to_datetime(finaldf['time'], infer_datetime_format=True).dt.hour"
   ]
  },
  {
   "cell_type": "code",
   "execution_count": 26,
   "id": "1b48a99c",
   "metadata": {
    "execution": {
     "iopub.execute_input": "2023-09-07T14:24:19.405974Z",
     "iopub.status.busy": "2023-09-07T14:24:19.405549Z",
     "iopub.status.idle": "2023-09-07T14:24:19.432677Z",
     "shell.execute_reply": "2023-09-07T14:24:19.431321Z"
    },
    "papermill": {
     "duration": 0.05808,
     "end_time": "2023-09-07T14:24:19.435558",
     "exception": false,
     "start_time": "2023-09-07T14:24:19.377478",
     "status": "completed"
    },
    "tags": []
   },
   "outputs": [
    {
     "data": {
      "text/html": [
       "<div>\n",
       "<style scoped>\n",
       "    .dataframe tbody tr th:only-of-type {\n",
       "        vertical-align: middle;\n",
       "    }\n",
       "\n",
       "    .dataframe tbody tr th {\n",
       "        vertical-align: top;\n",
       "    }\n",
       "\n",
       "    .dataframe thead th {\n",
       "        text-align: right;\n",
       "    }\n",
       "</style>\n",
       "<table border=\"1\" class=\"dataframe\">\n",
       "  <thead>\n",
       "    <tr style=\"text-align: right;\">\n",
       "      <th></th>\n",
       "      <th>order_details_id</th>\n",
       "      <th>order_id</th>\n",
       "      <th>pizza_id</th>\n",
       "      <th>quantity</th>\n",
       "      <th>date</th>\n",
       "      <th>time</th>\n",
       "      <th>pizza_type_id</th>\n",
       "      <th>size</th>\n",
       "      <th>price</th>\n",
       "      <th>name</th>\n",
       "      <th>category</th>\n",
       "      <th>ingredients</th>\n",
       "      <th>Months</th>\n",
       "      <th>hours</th>\n",
       "    </tr>\n",
       "  </thead>\n",
       "  <tbody>\n",
       "    <tr>\n",
       "      <th>0</th>\n",
       "      <td>1</td>\n",
       "      <td>1</td>\n",
       "      <td>hawaiian_m</td>\n",
       "      <td>1</td>\n",
       "      <td>2015-01-01</td>\n",
       "      <td>11:38:36</td>\n",
       "      <td>hawaiian</td>\n",
       "      <td>M</td>\n",
       "      <td>13.25</td>\n",
       "      <td>The Hawaiian Pizza</td>\n",
       "      <td>Classic</td>\n",
       "      <td>Sliced Ham, Pineapple, Mozzarella Cheese</td>\n",
       "      <td>1</td>\n",
       "      <td>11</td>\n",
       "    </tr>\n",
       "    <tr>\n",
       "      <th>473</th>\n",
       "      <td>2</td>\n",
       "      <td>2</td>\n",
       "      <td>classic_dlx_m</td>\n",
       "      <td>1</td>\n",
       "      <td>2015-01-01</td>\n",
       "      <td>11:57:40</td>\n",
       "      <td>classic_dlx</td>\n",
       "      <td>M</td>\n",
       "      <td>16.00</td>\n",
       "      <td>The Classic Deluxe Pizza</td>\n",
       "      <td>Classic</td>\n",
       "      <td>Pepperoni, Mushrooms, Red Onions, Red Peppers,...</td>\n",
       "      <td>1</td>\n",
       "      <td>11</td>\n",
       "    </tr>\n",
       "    <tr>\n",
       "      <th>1632</th>\n",
       "      <td>3</td>\n",
       "      <td>2</td>\n",
       "      <td>five_cheese_l</td>\n",
       "      <td>1</td>\n",
       "      <td>2015-01-01</td>\n",
       "      <td>11:57:40</td>\n",
       "      <td>five_cheese</td>\n",
       "      <td>L</td>\n",
       "      <td>18.50</td>\n",
       "      <td>The Five Cheese Pizza</td>\n",
       "      <td>Veggie</td>\n",
       "      <td>Mozzarella Cheese, Provolone Cheese, Smoked Go...</td>\n",
       "      <td>1</td>\n",
       "      <td>11</td>\n",
       "    </tr>\n",
       "    <tr>\n",
       "      <th>2991</th>\n",
       "      <td>4</td>\n",
       "      <td>2</td>\n",
       "      <td>ital_supr_l</td>\n",
       "      <td>1</td>\n",
       "      <td>2015-01-01</td>\n",
       "      <td>11:57:40</td>\n",
       "      <td>ital_supr</td>\n",
       "      <td>L</td>\n",
       "      <td>20.75</td>\n",
       "      <td>The Italian Supreme Pizza</td>\n",
       "      <td>Supreme</td>\n",
       "      <td>Calabrese Salami, Capocollo, Tomatoes, Red Oni...</td>\n",
       "      <td>1</td>\n",
       "      <td>11</td>\n",
       "    </tr>\n",
       "    <tr>\n",
       "      <th>3726</th>\n",
       "      <td>5</td>\n",
       "      <td>2</td>\n",
       "      <td>mexicana_m</td>\n",
       "      <td>1</td>\n",
       "      <td>2015-01-01</td>\n",
       "      <td>11:57:40</td>\n",
       "      <td>mexicana</td>\n",
       "      <td>M</td>\n",
       "      <td>16.00</td>\n",
       "      <td>The Mexicana Pizza</td>\n",
       "      <td>Veggie</td>\n",
       "      <td>Tomatoes, Red Peppers, Jalapeno Peppers, Red O...</td>\n",
       "      <td>1</td>\n",
       "      <td>11</td>\n",
       "    </tr>\n",
       "    <tr>\n",
       "      <th>...</th>\n",
       "      <td>...</td>\n",
       "      <td>...</td>\n",
       "      <td>...</td>\n",
       "      <td>...</td>\n",
       "      <td>...</td>\n",
       "      <td>...</td>\n",
       "      <td>...</td>\n",
       "      <td>...</td>\n",
       "      <td>...</td>\n",
       "      <td>...</td>\n",
       "      <td>...</td>\n",
       "      <td>...</td>\n",
       "      <td>...</td>\n",
       "      <td>...</td>\n",
       "    </tr>\n",
       "    <tr>\n",
       "      <th>33849</th>\n",
       "      <td>48616</td>\n",
       "      <td>21348</td>\n",
       "      <td>ckn_alfredo_m</td>\n",
       "      <td>1</td>\n",
       "      <td>2015-12-31</td>\n",
       "      <td>21:23:10</td>\n",
       "      <td>ckn_alfredo</td>\n",
       "      <td>M</td>\n",
       "      <td>16.75</td>\n",
       "      <td>The Chicken Alfredo Pizza</td>\n",
       "      <td>Chicken</td>\n",
       "      <td>Chicken, Red Onions, Red Peppers, Mushrooms, A...</td>\n",
       "      <td>12</td>\n",
       "      <td>21</td>\n",
       "    </tr>\n",
       "    <tr>\n",
       "      <th>22025</th>\n",
       "      <td>48617</td>\n",
       "      <td>21348</td>\n",
       "      <td>four_cheese_l</td>\n",
       "      <td>1</td>\n",
       "      <td>2015-12-31</td>\n",
       "      <td>21:23:10</td>\n",
       "      <td>four_cheese</td>\n",
       "      <td>L</td>\n",
       "      <td>17.95</td>\n",
       "      <td>The Four Cheese Pizza</td>\n",
       "      <td>Veggie</td>\n",
       "      <td>Ricotta Cheese, Gorgonzola Piccante Cheese, Mo...</td>\n",
       "      <td>12</td>\n",
       "      <td>21</td>\n",
       "    </tr>\n",
       "    <tr>\n",
       "      <th>22493</th>\n",
       "      <td>48618</td>\n",
       "      <td>21348</td>\n",
       "      <td>napolitana_s</td>\n",
       "      <td>1</td>\n",
       "      <td>2015-12-31</td>\n",
       "      <td>21:23:10</td>\n",
       "      <td>napolitana</td>\n",
       "      <td>S</td>\n",
       "      <td>12.00</td>\n",
       "      <td>The Napolitana Pizza</td>\n",
       "      <td>Classic</td>\n",
       "      <td>Tomatoes, Anchovies, Green Olives, Red Onions,...</td>\n",
       "      <td>12</td>\n",
       "      <td>21</td>\n",
       "    </tr>\n",
       "    <tr>\n",
       "      <th>13174</th>\n",
       "      <td>48619</td>\n",
       "      <td>21349</td>\n",
       "      <td>mexicana_l</td>\n",
       "      <td>1</td>\n",
       "      <td>2015-12-31</td>\n",
       "      <td>22:09:54</td>\n",
       "      <td>mexicana</td>\n",
       "      <td>L</td>\n",
       "      <td>20.25</td>\n",
       "      <td>The Mexicana Pizza</td>\n",
       "      <td>Veggie</td>\n",
       "      <td>Tomatoes, Red Peppers, Jalapeno Peppers, Red O...</td>\n",
       "      <td>12</td>\n",
       "      <td>22</td>\n",
       "    </tr>\n",
       "    <tr>\n",
       "      <th>7364</th>\n",
       "      <td>48620</td>\n",
       "      <td>21350</td>\n",
       "      <td>bbq_ckn_s</td>\n",
       "      <td>1</td>\n",
       "      <td>2015-12-31</td>\n",
       "      <td>23:02:05</td>\n",
       "      <td>bbq_ckn</td>\n",
       "      <td>S</td>\n",
       "      <td>12.75</td>\n",
       "      <td>The Barbecue Chicken Pizza</td>\n",
       "      <td>Chicken</td>\n",
       "      <td>Barbecued Chicken, Red Peppers, Green Peppers,...</td>\n",
       "      <td>12</td>\n",
       "      <td>23</td>\n",
       "    </tr>\n",
       "  </tbody>\n",
       "</table>\n",
       "<p>48620 rows × 14 columns</p>\n",
       "</div>"
      ],
      "text/plain": [
       "       order_details_id  order_id       pizza_id  quantity        date  \\\n",
       "0                     1         1     hawaiian_m         1  2015-01-01   \n",
       "473                   2         2  classic_dlx_m         1  2015-01-01   \n",
       "1632                  3         2  five_cheese_l         1  2015-01-01   \n",
       "2991                  4         2    ital_supr_l         1  2015-01-01   \n",
       "3726                  5         2     mexicana_m         1  2015-01-01   \n",
       "...                 ...       ...            ...       ...         ...   \n",
       "33849             48616     21348  ckn_alfredo_m         1  2015-12-31   \n",
       "22025             48617     21348  four_cheese_l         1  2015-12-31   \n",
       "22493             48618     21348   napolitana_s         1  2015-12-31   \n",
       "13174             48619     21349     mexicana_l         1  2015-12-31   \n",
       "7364              48620     21350      bbq_ckn_s         1  2015-12-31   \n",
       "\n",
       "           time pizza_type_id size  price                        name  \\\n",
       "0      11:38:36      hawaiian    M  13.25          The Hawaiian Pizza   \n",
       "473    11:57:40   classic_dlx    M  16.00    The Classic Deluxe Pizza   \n",
       "1632   11:57:40   five_cheese    L  18.50       The Five Cheese Pizza   \n",
       "2991   11:57:40     ital_supr    L  20.75   The Italian Supreme Pizza   \n",
       "3726   11:57:40      mexicana    M  16.00          The Mexicana Pizza   \n",
       "...         ...           ...  ...    ...                         ...   \n",
       "33849  21:23:10   ckn_alfredo    M  16.75   The Chicken Alfredo Pizza   \n",
       "22025  21:23:10   four_cheese    L  17.95       The Four Cheese Pizza   \n",
       "22493  21:23:10    napolitana    S  12.00        The Napolitana Pizza   \n",
       "13174  22:09:54      mexicana    L  20.25          The Mexicana Pizza   \n",
       "7364   23:02:05       bbq_ckn    S  12.75  The Barbecue Chicken Pizza   \n",
       "\n",
       "      category                                        ingredients  Months  \\\n",
       "0      Classic           Sliced Ham, Pineapple, Mozzarella Cheese       1   \n",
       "473    Classic  Pepperoni, Mushrooms, Red Onions, Red Peppers,...       1   \n",
       "1632    Veggie  Mozzarella Cheese, Provolone Cheese, Smoked Go...       1   \n",
       "2991   Supreme  Calabrese Salami, Capocollo, Tomatoes, Red Oni...       1   \n",
       "3726    Veggie  Tomatoes, Red Peppers, Jalapeno Peppers, Red O...       1   \n",
       "...        ...                                                ...     ...   \n",
       "33849  Chicken  Chicken, Red Onions, Red Peppers, Mushrooms, A...      12   \n",
       "22025   Veggie  Ricotta Cheese, Gorgonzola Piccante Cheese, Mo...      12   \n",
       "22493  Classic  Tomatoes, Anchovies, Green Olives, Red Onions,...      12   \n",
       "13174   Veggie  Tomatoes, Red Peppers, Jalapeno Peppers, Red O...      12   \n",
       "7364   Chicken  Barbecued Chicken, Red Peppers, Green Peppers,...      12   \n",
       "\n",
       "       hours  \n",
       "0         11  \n",
       "473       11  \n",
       "1632      11  \n",
       "2991      11  \n",
       "3726      11  \n",
       "...      ...  \n",
       "33849     21  \n",
       "22025     21  \n",
       "22493     21  \n",
       "13174     22  \n",
       "7364      23  \n",
       "\n",
       "[48620 rows x 14 columns]"
      ]
     },
     "execution_count": 26,
     "metadata": {},
     "output_type": "execute_result"
    }
   ],
   "source": [
    "finaldf"
   ]
  },
  {
   "cell_type": "code",
   "execution_count": 27,
   "id": "cac673a0",
   "metadata": {
    "execution": {
     "iopub.execute_input": "2023-09-07T14:24:19.494425Z",
     "iopub.status.busy": "2023-09-07T14:24:19.493135Z",
     "iopub.status.idle": "2023-09-07T14:24:19.553117Z",
     "shell.execute_reply": "2023-09-07T14:24:19.551368Z"
    },
    "papermill": {
     "duration": 0.092506,
     "end_time": "2023-09-07T14:24:19.556018",
     "exception": false,
     "start_time": "2023-09-07T14:24:19.463512",
     "status": "completed"
    },
    "tags": []
   },
   "outputs": [
    {
     "name": "stdout",
     "output_type": "stream",
     "text": [
      "<class 'pandas.core.frame.DataFrame'>\n",
      "Int64Index: 48620 entries, 0 to 7364\n",
      "Data columns (total 14 columns):\n",
      " #   Column            Non-Null Count  Dtype  \n",
      "---  ------            --------------  -----  \n",
      " 0   order_details_id  48620 non-null  int64  \n",
      " 1   order_id          48620 non-null  int64  \n",
      " 2   pizza_id          48620 non-null  object \n",
      " 3   quantity          48620 non-null  int64  \n",
      " 4   date              48620 non-null  object \n",
      " 5   time              48620 non-null  object \n",
      " 6   pizza_type_id     48620 non-null  object \n",
      " 7   size              48620 non-null  object \n",
      " 8   price             48620 non-null  float64\n",
      " 9   name              48620 non-null  object \n",
      " 10  category          48620 non-null  object \n",
      " 11  ingredients       48620 non-null  object \n",
      " 12  Months            48620 non-null  int64  \n",
      " 13  hours             48620 non-null  int64  \n",
      "dtypes: float64(1), int64(5), object(8)\n",
      "memory usage: 5.6+ MB\n"
     ]
    }
   ],
   "source": [
    "finaldf.info()"
   ]
  },
  {
   "cell_type": "markdown",
   "id": "c3051671",
   "metadata": {
    "papermill": {
     "duration": 0.027785,
     "end_time": "2023-09-07T14:24:19.612024",
     "exception": false,
     "start_time": "2023-09-07T14:24:19.584239",
     "status": "completed"
    },
    "tags": []
   },
   "source": [
    "## **No of pizzas sold as per size in year**"
   ]
  },
  {
   "cell_type": "code",
   "execution_count": 28,
   "id": "6e3356e7",
   "metadata": {
    "execution": {
     "iopub.execute_input": "2023-09-07T14:24:19.670504Z",
     "iopub.status.busy": "2023-09-07T14:24:19.668969Z",
     "iopub.status.idle": "2023-09-07T14:24:19.685125Z",
     "shell.execute_reply": "2023-09-07T14:24:19.683997Z"
    },
    "papermill": {
     "duration": 0.04745,
     "end_time": "2023-09-07T14:24:19.687579",
     "exception": false,
     "start_time": "2023-09-07T14:24:19.640129",
     "status": "completed"
    },
    "tags": []
   },
   "outputs": [
    {
     "data": {
      "text/plain": [
       "L      18526\n",
       "M      15385\n",
       "S      14137\n",
       "XL       544\n",
       "XXL       28\n",
       "Name: size, dtype: int64"
      ]
     },
     "execution_count": 28,
     "metadata": {},
     "output_type": "execute_result"
    }
   ],
   "source": [
    "finaldf['size'].value_counts()"
   ]
  },
  {
   "cell_type": "markdown",
   "id": "f37b6ab8",
   "metadata": {
    "papermill": {
     "duration": 0.028318,
     "end_time": "2023-09-07T14:24:19.744166",
     "exception": false,
     "start_time": "2023-09-07T14:24:19.715848",
     "status": "completed"
    },
    "tags": []
   },
   "source": [
    "## **No of pizzas sold as per category**"
   ]
  },
  {
   "cell_type": "code",
   "execution_count": 29,
   "id": "e25686d6",
   "metadata": {
    "execution": {
     "iopub.execute_input": "2023-09-07T14:24:19.803878Z",
     "iopub.status.busy": "2023-09-07T14:24:19.802752Z",
     "iopub.status.idle": "2023-09-07T14:24:19.820545Z",
     "shell.execute_reply": "2023-09-07T14:24:19.818989Z"
    },
    "papermill": {
     "duration": 0.050164,
     "end_time": "2023-09-07T14:24:19.823226",
     "exception": false,
     "start_time": "2023-09-07T14:24:19.773062",
     "status": "completed"
    },
    "tags": []
   },
   "outputs": [
    {
     "data": {
      "text/plain": [
       "Classic    14579\n",
       "Supreme    11777\n",
       "Veggie     11449\n",
       "Chicken    10815\n",
       "Name: category, dtype: int64"
      ]
     },
     "execution_count": 29,
     "metadata": {},
     "output_type": "execute_result"
    }
   ],
   "source": [
    "finaldf['category'].value_counts()"
   ]
  },
  {
   "cell_type": "markdown",
   "id": "6c82e359",
   "metadata": {
    "papermill": {
     "duration": 0.027749,
     "end_time": "2023-09-07T14:24:19.883719",
     "exception": false,
     "start_time": "2023-09-07T14:24:19.855970",
     "status": "completed"
    },
    "tags": []
   },
   "source": [
    "# **Grouping of pizza_id with sum of price**"
   ]
  },
  {
   "cell_type": "code",
   "execution_count": 30,
   "id": "237206b8",
   "metadata": {
    "execution": {
     "iopub.execute_input": "2023-09-07T14:24:19.950251Z",
     "iopub.status.busy": "2023-09-07T14:24:19.949199Z",
     "iopub.status.idle": "2023-09-07T14:24:19.980964Z",
     "shell.execute_reply": "2023-09-07T14:24:19.979351Z"
    },
    "papermill": {
     "duration": 0.07359,
     "end_time": "2023-09-07T14:24:19.985134",
     "exception": false,
     "start_time": "2023-09-07T14:24:19.911544",
     "status": "completed"
    },
    "tags": []
   },
   "outputs": [],
   "source": [
    "money = finaldf.groupby('pizza_id').agg({'price': lambda x: x.sum()})"
   ]
  },
  {
   "cell_type": "code",
   "execution_count": 31,
   "id": "c2a74ebc",
   "metadata": {
    "execution": {
     "iopub.execute_input": "2023-09-07T14:24:20.048803Z",
     "iopub.status.busy": "2023-09-07T14:24:20.048362Z",
     "iopub.status.idle": "2023-09-07T14:24:20.065522Z",
     "shell.execute_reply": "2023-09-07T14:24:20.064278Z"
    },
    "papermill": {
     "duration": 0.04959,
     "end_time": "2023-09-07T14:24:20.068152",
     "exception": false,
     "start_time": "2023-09-07T14:24:20.018562",
     "status": "completed"
    },
    "tags": []
   },
   "outputs": [
    {
     "data": {
      "text/plain": [
       "pizza_id\n",
       "bbq_ckn_l        20065.25\n",
       "bbq_ckn_m        15510.50\n",
       "bbq_ckn_s         6107.25\n",
       "big_meat_s       21732.00\n",
       "brie_carre_s     11352.00\n",
       "                   ...   \n",
       "the_greek_xl     13872.00\n",
       "the_greek_xxl     1006.60\n",
       "veggie_veg_l      8565.75\n",
       "veggie_veg_m     10080.00\n",
       "veggie_veg_s      5484.00\n",
       "Name: price, Length: 91, dtype: float64"
      ]
     },
     "execution_count": 31,
     "metadata": {},
     "output_type": "execute_result"
    }
   ],
   "source": [
    "finaldf.groupby(['pizza_id']) ['price'].sum()"
   ]
  },
  {
   "cell_type": "markdown",
   "id": "2be67da5",
   "metadata": {
    "papermill": {
     "duration": 0.028516,
     "end_time": "2023-09-07T14:24:20.125500",
     "exception": false,
     "start_time": "2023-09-07T14:24:20.096984",
     "status": "completed"
    },
    "tags": []
   },
   "source": [
    "# **Money owner made as per pizza**"
   ]
  },
  {
   "cell_type": "markdown",
   "id": "c8fe51f5",
   "metadata": {
    "papermill": {
     "duration": 0.028296,
     "end_time": "2023-09-07T14:24:20.181890",
     "exception": false,
     "start_time": "2023-09-07T14:24:20.153594",
     "status": "completed"
    },
    "tags": []
   },
   "source": [
    "## **Top 10 most sold as per Money**"
   ]
  },
  {
   "cell_type": "code",
   "execution_count": 32,
   "id": "49366701",
   "metadata": {
    "execution": {
     "iopub.execute_input": "2023-09-07T14:24:20.240874Z",
     "iopub.status.busy": "2023-09-07T14:24:20.239958Z",
     "iopub.status.idle": "2023-09-07T14:24:20.252707Z",
     "shell.execute_reply": "2023-09-07T14:24:20.251798Z"
    },
    "papermill": {
     "duration": 0.045206,
     "end_time": "2023-09-07T14:24:20.255121",
     "exception": false,
     "start_time": "2023-09-07T14:24:20.209915",
     "status": "completed"
    },
    "tags": []
   },
   "outputs": [
    {
     "data": {
      "text/html": [
       "<div>\n",
       "<style scoped>\n",
       "    .dataframe tbody tr th:only-of-type {\n",
       "        vertical-align: middle;\n",
       "    }\n",
       "\n",
       "    .dataframe tbody tr th {\n",
       "        vertical-align: top;\n",
       "    }\n",
       "\n",
       "    .dataframe thead th {\n",
       "        text-align: right;\n",
       "    }\n",
       "</style>\n",
       "<table border=\"1\" class=\"dataframe\">\n",
       "  <thead>\n",
       "    <tr style=\"text-align: right;\">\n",
       "      <th></th>\n",
       "      <th>price</th>\n",
       "    </tr>\n",
       "    <tr>\n",
       "      <th>pizza_id</th>\n",
       "      <th></th>\n",
       "    </tr>\n",
       "  </thead>\n",
       "  <tbody>\n",
       "    <tr>\n",
       "      <th>thai_ckn_l</th>\n",
       "      <td>28323.75</td>\n",
       "    </tr>\n",
       "    <tr>\n",
       "      <th>five_cheese_l</th>\n",
       "      <td>25141.50</td>\n",
       "    </tr>\n",
       "    <tr>\n",
       "      <th>four_cheese_l</th>\n",
       "      <td>22850.35</td>\n",
       "    </tr>\n",
       "    <tr>\n",
       "      <th>spicy_ital_l</th>\n",
       "      <td>22576.00</td>\n",
       "    </tr>\n",
       "    <tr>\n",
       "      <th>big_meat_s</th>\n",
       "      <td>21732.00</td>\n",
       "    </tr>\n",
       "    <tr>\n",
       "      <th>southw_ckn_l</th>\n",
       "      <td>20604.75</td>\n",
       "    </tr>\n",
       "    <tr>\n",
       "      <th>bbq_ckn_l</th>\n",
       "      <td>20065.25</td>\n",
       "    </tr>\n",
       "    <tr>\n",
       "      <th>cali_ckn_l</th>\n",
       "      <td>18571.25</td>\n",
       "    </tr>\n",
       "    <tr>\n",
       "      <th>classic_dlx_m</th>\n",
       "      <td>18544.00</td>\n",
       "    </tr>\n",
       "    <tr>\n",
       "      <th>mexicana_l</th>\n",
       "      <td>17091.00</td>\n",
       "    </tr>\n",
       "  </tbody>\n",
       "</table>\n",
       "</div>"
      ],
      "text/plain": [
       "                  price\n",
       "pizza_id               \n",
       "thai_ckn_l     28323.75\n",
       "five_cheese_l  25141.50\n",
       "four_cheese_l  22850.35\n",
       "spicy_ital_l   22576.00\n",
       "big_meat_s     21732.00\n",
       "southw_ckn_l   20604.75\n",
       "bbq_ckn_l      20065.25\n",
       "cali_ckn_l     18571.25\n",
       "classic_dlx_m  18544.00\n",
       "mexicana_l     17091.00"
      ]
     },
     "execution_count": 32,
     "metadata": {},
     "output_type": "execute_result"
    }
   ],
   "source": [
    "mh=money.sort_values(by=['price'],ascending=False).head(10)\n",
    "mh"
   ]
  },
  {
   "cell_type": "markdown",
   "id": "d5f5411e",
   "metadata": {
    "papermill": {
     "duration": 0.030898,
     "end_time": "2023-09-07T14:24:20.314951",
     "exception": false,
     "start_time": "2023-09-07T14:24:20.284053",
     "status": "completed"
    },
    "tags": []
   },
   "source": [
    "## **last 10 sold as per Money**"
   ]
  },
  {
   "cell_type": "code",
   "execution_count": 33,
   "id": "85c0fd80",
   "metadata": {
    "execution": {
     "iopub.execute_input": "2023-09-07T14:24:20.378367Z",
     "iopub.status.busy": "2023-09-07T14:24:20.377548Z",
     "iopub.status.idle": "2023-09-07T14:24:20.390508Z",
     "shell.execute_reply": "2023-09-07T14:24:20.389212Z"
    },
    "papermill": {
     "duration": 0.048013,
     "end_time": "2023-09-07T14:24:20.393538",
     "exception": false,
     "start_time": "2023-09-07T14:24:20.345525",
     "status": "completed"
    },
    "tags": []
   },
   "outputs": [
    {
     "data": {
      "text/html": [
       "<div>\n",
       "<style scoped>\n",
       "    .dataframe tbody tr th:only-of-type {\n",
       "        vertical-align: middle;\n",
       "    }\n",
       "\n",
       "    .dataframe tbody tr th {\n",
       "        vertical-align: top;\n",
       "    }\n",
       "\n",
       "    .dataframe thead th {\n",
       "        text-align: right;\n",
       "    }\n",
       "</style>\n",
       "<table border=\"1\" class=\"dataframe\">\n",
       "  <thead>\n",
       "    <tr style=\"text-align: right;\">\n",
       "      <th></th>\n",
       "      <th>price</th>\n",
       "    </tr>\n",
       "    <tr>\n",
       "      <th>pizza_id</th>\n",
       "      <th></th>\n",
       "    </tr>\n",
       "  </thead>\n",
       "  <tbody>\n",
       "    <tr>\n",
       "      <th>the_greek_s</th>\n",
       "      <td>3600.00</td>\n",
       "    </tr>\n",
       "    <tr>\n",
       "      <th>ital_cpcllo_s</th>\n",
       "      <td>3600.00</td>\n",
       "    </tr>\n",
       "    <tr>\n",
       "      <th>soppressata_s</th>\n",
       "      <td>3600.00</td>\n",
       "    </tr>\n",
       "    <tr>\n",
       "      <th>mediterraneo_s</th>\n",
       "      <td>3456.00</td>\n",
       "    </tr>\n",
       "    <tr>\n",
       "      <th>ital_supr_s</th>\n",
       "      <td>2425.00</td>\n",
       "    </tr>\n",
       "    <tr>\n",
       "      <th>mexicana_s</th>\n",
       "      <td>1920.00</td>\n",
       "    </tr>\n",
       "    <tr>\n",
       "      <th>green_garden_l</th>\n",
       "      <td>1903.50</td>\n",
       "    </tr>\n",
       "    <tr>\n",
       "      <th>ckn_alfredo_s</th>\n",
       "      <td>1224.00</td>\n",
       "    </tr>\n",
       "    <tr>\n",
       "      <th>calabrese_s</th>\n",
       "      <td>1212.75</td>\n",
       "    </tr>\n",
       "    <tr>\n",
       "      <th>the_greek_xxl</th>\n",
       "      <td>1006.60</td>\n",
       "    </tr>\n",
       "  </tbody>\n",
       "</table>\n",
       "</div>"
      ],
      "text/plain": [
       "                  price\n",
       "pizza_id               \n",
       "the_greek_s     3600.00\n",
       "ital_cpcllo_s   3600.00\n",
       "soppressata_s   3600.00\n",
       "mediterraneo_s  3456.00\n",
       "ital_supr_s     2425.00\n",
       "mexicana_s      1920.00\n",
       "green_garden_l  1903.50\n",
       "ckn_alfredo_s   1224.00\n",
       "calabrese_s     1212.75\n",
       "the_greek_xxl   1006.60"
      ]
     },
     "execution_count": 33,
     "metadata": {},
     "output_type": "execute_result"
    }
   ],
   "source": [
    "ml=money.sort_values(by=['price'],ascending=False).tail(10)\n",
    "ml"
   ]
  },
  {
   "cell_type": "markdown",
   "id": "9eedcb60",
   "metadata": {
    "papermill": {
     "duration": 0.029476,
     "end_time": "2023-09-07T14:24:20.453348",
     "exception": false,
     "start_time": "2023-09-07T14:24:20.423872",
     "status": "completed"
    },
    "tags": []
   },
   "source": [
    "# **1.How many customers do we have each day? Are there any peak hours?**\n"
   ]
  },
  {
   "cell_type": "code",
   "execution_count": 34,
   "id": "17370b13",
   "metadata": {
    "execution": {
     "iopub.execute_input": "2023-09-07T14:24:20.513459Z",
     "iopub.status.busy": "2023-09-07T14:24:20.512968Z",
     "iopub.status.idle": "2023-09-07T14:24:20.529349Z",
     "shell.execute_reply": "2023-09-07T14:24:20.528416Z"
    },
    "papermill": {
     "duration": 0.049132,
     "end_time": "2023-09-07T14:24:20.531519",
     "exception": false,
     "start_time": "2023-09-07T14:24:20.482387",
     "status": "completed"
    },
    "tags": []
   },
   "outputs": [
    {
     "data": {
      "text/plain": [
       "2015-11-26    261\n",
       "2015-11-27    259\n",
       "2015-10-15    258\n",
       "2015-07-04    233\n",
       "2015-07-03    207\n",
       "             ... \n",
       "2015-12-27     87\n",
       "2015-11-22     82\n",
       "2015-12-29     77\n",
       "2015-03-22     76\n",
       "2015-12-30     73\n",
       "Name: date, Length: 358, dtype: int64"
      ]
     },
     "execution_count": 34,
     "metadata": {},
     "output_type": "execute_result"
    }
   ],
   "source": [
    "finaldf['date'].value_counts()"
   ]
  },
  {
   "cell_type": "markdown",
   "id": "20e1632c",
   "metadata": {
    "papermill": {
     "duration": 0.030225,
     "end_time": "2023-09-07T14:24:20.590360",
     "exception": false,
     "start_time": "2023-09-07T14:24:20.560135",
     "status": "completed"
    },
    "tags": []
   },
   "source": [
    "## **Calculating Peak time**"
   ]
  },
  {
   "cell_type": "code",
   "execution_count": 35,
   "id": "cbfc53f9",
   "metadata": {
    "execution": {
     "iopub.execute_input": "2023-09-07T14:24:20.653188Z",
     "iopub.status.busy": "2023-09-07T14:24:20.652254Z",
     "iopub.status.idle": "2023-09-07T14:24:20.661910Z",
     "shell.execute_reply": "2023-09-07T14:24:20.661014Z"
    },
    "papermill": {
     "duration": 0.043982,
     "end_time": "2023-09-07T14:24:20.664436",
     "exception": false,
     "start_time": "2023-09-07T14:24:20.620454",
     "status": "completed"
    },
    "tags": []
   },
   "outputs": [
    {
     "data": {
      "text/plain": [
       "12    6543\n",
       "13    6203\n",
       "18    5359\n",
       "17    5143\n",
       "19    4350\n",
       "16    4185\n",
       "14    3521\n",
       "20    3487\n",
       "15    3170\n",
       "11    2672\n",
       "21    2528\n",
       "22    1370\n",
       "23      68\n",
       "10      17\n",
       "9        4\n",
       "Name: hours, dtype: int64"
      ]
     },
     "execution_count": 35,
     "metadata": {},
     "output_type": "execute_result"
    }
   ],
   "source": [
    "finaldf['hours'].value_counts().sort_values(ascending=False)"
   ]
  },
  {
   "cell_type": "code",
   "execution_count": 36,
   "id": "ed559add",
   "metadata": {
    "execution": {
     "iopub.execute_input": "2023-09-07T14:24:20.725653Z",
     "iopub.status.busy": "2023-09-07T14:24:20.724866Z",
     "iopub.status.idle": "2023-09-07T14:24:21.161817Z",
     "shell.execute_reply": "2023-09-07T14:24:21.160367Z"
    },
    "papermill": {
     "duration": 0.470836,
     "end_time": "2023-09-07T14:24:21.164821",
     "exception": false,
     "start_time": "2023-09-07T14:24:20.693985",
     "status": "completed"
    },
    "tags": []
   },
   "outputs": [
    {
     "data": {
      "text/plain": [
       "Text(0.5, 1.0, 'No of orders (through a year)in a timeslot')"
      ]
     },
     "execution_count": 36,
     "metadata": {},
     "output_type": "execute_result"
    },
    {
     "data": {
      "image/png": "[encoded data removed]",
      "text/plain": [
       "<Figure size 1080x576 with 1 Axes>"
      ]
     },
     "metadata": {
      "needs_background": "light"
     },
     "output_type": "display_data"
    }
   ],
   "source": [
    "finaldf.groupby('hours').agg('hours').count().to_frame().plot(kind='bar',figsize=(15,8))\n",
    "\n",
    "#step to add label at the plot\n",
    "for i, v in enumerate(finaldf.groupby('hours') \\\n",
    "                      .agg({'hours': lambda x: len(x)})['hours']):\n",
    "    plt.text(i - .15, v + 25, int(v), color='black')\n",
    "    \n",
    "plt.ylabel('No. of orders')\n",
    "plt.title('No of orders (through a year)in a timeslot')"
   ]
  },
  {
   "cell_type": "markdown",
   "id": "eb394121",
   "metadata": {
    "papermill": {
     "duration": 0.033695,
     "end_time": "2023-09-07T14:24:21.229764",
     "exception": false,
     "start_time": "2023-09-07T14:24:21.196069",
     "status": "completed"
    },
    "tags": []
   },
   "source": [
    "**peak time 1 from 12am to 1pm**<br>\n",
    "**Peak time 2 from 5pm to 6pm**"
   ]
  },
  {
   "cell_type": "markdown",
   "id": "5ee4cca9",
   "metadata": {
    "papermill": {
     "duration": 0.029163,
     "end_time": "2023-09-07T14:24:21.288989",
     "exception": false,
     "start_time": "2023-09-07T14:24:21.259826",
     "status": "completed"
    },
    "tags": []
   },
   "source": [
    "# **2.How many pizzas are typically in order? Do we have any bestsellers?**"
   ]
  },
  {
   "cell_type": "markdown",
   "id": "2581bf31",
   "metadata": {
    "papermill": {
     "duration": 0.029086,
     "end_time": "2023-09-07T14:24:21.348260",
     "exception": false,
     "start_time": "2023-09-07T14:24:21.319174",
     "status": "completed"
    },
    "tags": []
   },
   "source": [
    "## **No of Pizzas typically ordered**"
   ]
  },
  {
   "cell_type": "code",
   "execution_count": 37,
   "id": "7e9facf2",
   "metadata": {
    "execution": {
     "iopub.execute_input": "2023-09-07T14:24:21.409709Z",
     "iopub.status.busy": "2023-09-07T14:24:21.408893Z",
     "iopub.status.idle": "2023-09-07T14:24:21.417704Z",
     "shell.execute_reply": "2023-09-07T14:24:21.416546Z"
    },
    "papermill": {
     "duration": 0.042435,
     "end_time": "2023-09-07T14:24:21.420234",
     "exception": false,
     "start_time": "2023-09-07T14:24:21.377799",
     "status": "completed"
    },
    "tags": []
   },
   "outputs": [
    {
     "data": {
      "text/plain": [
       "1    47693\n",
       "2      903\n",
       "3       21\n",
       "4        3\n",
       "Name: quantity, dtype: int64"
      ]
     },
     "execution_count": 37,
     "metadata": {},
     "output_type": "execute_result"
    }
   ],
   "source": [
    "orders['quantity'].value_counts()\n",
    "#most of the times 1 pizza is ordered in a order"
   ]
  },
  {
   "cell_type": "code",
   "execution_count": 38,
   "id": "dd9aedb6",
   "metadata": {
    "execution": {
     "iopub.execute_input": "2023-09-07T14:24:21.482247Z",
     "iopub.status.busy": "2023-09-07T14:24:21.480997Z",
     "iopub.status.idle": "2023-09-07T14:24:21.765100Z",
     "shell.execute_reply": "2023-09-07T14:24:21.763784Z"
    },
    "papermill": {
     "duration": 0.318002,
     "end_time": "2023-09-07T14:24:21.768023",
     "exception": false,
     "start_time": "2023-09-07T14:24:21.450021",
     "status": "completed"
    },
    "tags": []
   },
   "outputs": [
    {
     "data": {
      "text/plain": [
       "Text(0.5, 1.0, 'No. of Pizzas are typically ordered')"
      ]
     },
     "execution_count": 38,
     "metadata": {},
     "output_type": "execute_result"
    },
    {
     "data": {
      "image/png": "[encoded data removed]",
      "text/plain": [
       "<Figure size 1080x576 with 1 Axes>"
      ]
     },
     "metadata": {
      "needs_background": "light"
     },
     "output_type": "display_data"
    }
   ],
   "source": [
    "finaldf.groupby('quantity').agg('quantity').count().to_frame().plot(kind='bar',figsize=(15,8))\n",
    "\n",
    "#step to add label at the plot\n",
    "for i, v in enumerate(finaldf.groupby('quantity') \\\n",
    "                      .agg({'quantity': lambda x: len(x)})['quantity']):\n",
    "    plt.text(i - .15, v + 25, int(v), color='black')\n",
    "    \n",
    "plt.ylabel('No. of  times orders')\n",
    "plt.title('No. of Pizzas are typically ordered')"
   ]
  },
  {
   "cell_type": "markdown",
   "id": "00abcde1",
   "metadata": {
    "papermill": {
     "duration": 0.032237,
     "end_time": "2023-09-07T14:24:21.832512",
     "exception": false,
     "start_time": "2023-09-07T14:24:21.800275",
     "status": "completed"
    },
    "tags": []
   },
   "source": [
    "## **Top 10 most sold as per money**"
   ]
  },
  {
   "cell_type": "code",
   "execution_count": 39,
   "id": "3ee86017",
   "metadata": {
    "execution": {
     "iopub.execute_input": "2023-09-07T14:24:21.898787Z",
     "iopub.status.busy": "2023-09-07T14:24:21.898249Z",
     "iopub.status.idle": "2023-09-07T14:24:21.911880Z",
     "shell.execute_reply": "2023-09-07T14:24:21.910521Z"
    },
    "papermill": {
     "duration": 0.048893,
     "end_time": "2023-09-07T14:24:21.914554",
     "exception": false,
     "start_time": "2023-09-07T14:24:21.865661",
     "status": "completed"
    },
    "tags": []
   },
   "outputs": [
    {
     "data": {
      "text/html": [
       "<div>\n",
       "<style scoped>\n",
       "    .dataframe tbody tr th:only-of-type {\n",
       "        vertical-align: middle;\n",
       "    }\n",
       "\n",
       "    .dataframe tbody tr th {\n",
       "        vertical-align: top;\n",
       "    }\n",
       "\n",
       "    .dataframe thead th {\n",
       "        text-align: right;\n",
       "    }\n",
       "</style>\n",
       "<table border=\"1\" class=\"dataframe\">\n",
       "  <thead>\n",
       "    <tr style=\"text-align: right;\">\n",
       "      <th></th>\n",
       "      <th>price</th>\n",
       "    </tr>\n",
       "    <tr>\n",
       "      <th>pizza_id</th>\n",
       "      <th></th>\n",
       "    </tr>\n",
       "  </thead>\n",
       "  <tbody>\n",
       "    <tr>\n",
       "      <th>thai_ckn_l</th>\n",
       "      <td>28323.75</td>\n",
       "    </tr>\n",
       "    <tr>\n",
       "      <th>five_cheese_l</th>\n",
       "      <td>25141.50</td>\n",
       "    </tr>\n",
       "    <tr>\n",
       "      <th>four_cheese_l</th>\n",
       "      <td>22850.35</td>\n",
       "    </tr>\n",
       "    <tr>\n",
       "      <th>spicy_ital_l</th>\n",
       "      <td>22576.00</td>\n",
       "    </tr>\n",
       "    <tr>\n",
       "      <th>big_meat_s</th>\n",
       "      <td>21732.00</td>\n",
       "    </tr>\n",
       "    <tr>\n",
       "      <th>southw_ckn_l</th>\n",
       "      <td>20604.75</td>\n",
       "    </tr>\n",
       "    <tr>\n",
       "      <th>bbq_ckn_l</th>\n",
       "      <td>20065.25</td>\n",
       "    </tr>\n",
       "    <tr>\n",
       "      <th>cali_ckn_l</th>\n",
       "      <td>18571.25</td>\n",
       "    </tr>\n",
       "    <tr>\n",
       "      <th>classic_dlx_m</th>\n",
       "      <td>18544.00</td>\n",
       "    </tr>\n",
       "    <tr>\n",
       "      <th>mexicana_l</th>\n",
       "      <td>17091.00</td>\n",
       "    </tr>\n",
       "  </tbody>\n",
       "</table>\n",
       "</div>"
      ],
      "text/plain": [
       "                  price\n",
       "pizza_id               \n",
       "thai_ckn_l     28323.75\n",
       "five_cheese_l  25141.50\n",
       "four_cheese_l  22850.35\n",
       "spicy_ital_l   22576.00\n",
       "big_meat_s     21732.00\n",
       "southw_ckn_l   20604.75\n",
       "bbq_ckn_l      20065.25\n",
       "cali_ckn_l     18571.25\n",
       "classic_dlx_m  18544.00\n",
       "mexicana_l     17091.00"
      ]
     },
     "execution_count": 39,
     "metadata": {},
     "output_type": "execute_result"
    }
   ],
   "source": [
    "mh"
   ]
  },
  {
   "cell_type": "code",
   "execution_count": 40,
   "id": "95b9fd6a",
   "metadata": {
    "_kg_hide-input": true,
    "execution": {
     "iopub.execute_input": "2023-09-07T14:24:21.982679Z",
     "iopub.status.busy": "2023-09-07T14:24:21.982219Z",
     "iopub.status.idle": "2023-09-07T14:24:22.309682Z",
     "shell.execute_reply": "2023-09-07T14:24:22.308259Z"
    },
    "papermill": {
     "duration": 0.364032,
     "end_time": "2023-09-07T14:24:22.312606",
     "exception": false,
     "start_time": "2023-09-07T14:24:21.948574",
     "status": "completed"
    },
    "tags": []
   },
   "outputs": [
    {
     "data": {
      "text/plain": [
       "Text(0.5, 1.0, ' Top 10 revenue generated from certain pizza_id')"
      ]
     },
     "execution_count": 40,
     "metadata": {},
     "output_type": "execute_result"
    },
    {
     "data": {
      "image/png": "[encoded data removed]",
      "text/plain": [
       "<Figure size 1080x576 with 1 Axes>"
      ]
     },
     "metadata": {
      "needs_background": "light"
     },
     "output_type": "display_data"
    }
   ],
   "source": [
    "finaldf.groupby('pizza_id').agg('price').sum().sort_values(ascending=False).head(10).to_frame().plot(kind='bar',color='g',figsize=(15,8))\n",
    "\n",
    "plt.ylabel('Revenue')\n",
    "plt.title(' Top 10 revenue generated from certain pizza_id')"
   ]
  },
  {
   "cell_type": "markdown",
   "id": "ba354f2d",
   "metadata": {
    "papermill": {
     "duration": 0.030896,
     "end_time": "2023-09-07T14:24:22.374817",
     "exception": false,
     "start_time": "2023-09-07T14:24:22.343921",
     "status": "completed"
    },
    "tags": []
   },
   "source": [
    "## **Top 10 most sold as per no of times ordered**"
   ]
  },
  {
   "cell_type": "code",
   "execution_count": 41,
   "id": "00e48a59",
   "metadata": {
    "execution": {
     "iopub.execute_input": "2023-09-07T14:24:22.438922Z",
     "iopub.status.busy": "2023-09-07T14:24:22.438497Z",
     "iopub.status.idle": "2023-09-07T14:24:22.455835Z",
     "shell.execute_reply": "2023-09-07T14:24:22.454525Z"
    },
    "papermill": {
     "duration": 0.052599,
     "end_time": "2023-09-07T14:24:22.458577",
     "exception": false,
     "start_time": "2023-09-07T14:24:22.405978",
     "status": "completed"
    },
    "tags": []
   },
   "outputs": [
    {
     "data": {
      "text/plain": [
       "big_meat_s       1811\n",
       "thai_ckn_l       1365\n",
       "five_cheese_l    1359\n",
       "four_cheese_l    1273\n",
       "classic_dlx_m    1159\n",
       "spicy_ital_l     1088\n",
       "hawaiian_s       1001\n",
       "southw_ckn_l      993\n",
       "bbq_ckn_l         967\n",
       "bbq_ckn_m         926\n",
       "Name: pizza_id, dtype: int64"
      ]
     },
     "execution_count": 41,
     "metadata": {},
     "output_type": "execute_result"
    }
   ],
   "source": [
    "finaldf['pizza_id'].value_counts().head(10)"
   ]
  },
  {
   "cell_type": "code",
   "execution_count": 42,
   "id": "87f86b28",
   "metadata": {
    "execution": {
     "iopub.execute_input": "2023-09-07T14:24:22.523246Z",
     "iopub.status.busy": "2023-09-07T14:24:22.522836Z",
     "iopub.status.idle": "2023-09-07T14:24:22.819716Z",
     "shell.execute_reply": "2023-09-07T14:24:22.818750Z"
    },
    "papermill": {
     "duration": 0.331947,
     "end_time": "2023-09-07T14:24:22.822076",
     "exception": false,
     "start_time": "2023-09-07T14:24:22.490129",
     "status": "completed"
    },
    "tags": []
   },
   "outputs": [
    {
     "data": {
      "text/plain": [
       "Text(0.5, 1.0, 'Top 10 most sold as per no. of times ordered')"
      ]
     },
     "execution_count": 42,
     "metadata": {},
     "output_type": "execute_result"
    },
    {
     "data": {
      "image/png": "[encoded data removed]",
      "text/plain": [
       "<Figure size 1080x576 with 1 Axes>"
      ]
     },
     "metadata": {
      "needs_background": "light"
     },
     "output_type": "display_data"
    }
   ],
   "source": [
    "finaldf.groupby('pizza_id').agg('pizza_id').count().sort_values(ascending=False).head(10).to_frame().plot(kind='bar',color='red',figsize=(15,8))\n",
    "\n",
    "\n",
    "plt.ylabel('No. of times ordered')\n",
    "plt.title('Top 10 most sold as per no. of times ordered')"
   ]
  },
  {
   "cell_type": "markdown",
   "id": "681ac480",
   "metadata": {
    "papermill": {
     "duration": 0.03156,
     "end_time": "2023-09-07T14:24:22.886035",
     "exception": false,
     "start_time": "2023-09-07T14:24:22.854475",
     "status": "completed"
    },
    "tags": []
   },
   "source": [
    "# **3.How much money did we make this year? Can we identify any seasonality in the sales?**\n"
   ]
  },
  {
   "cell_type": "code",
   "execution_count": 43,
   "id": "cb3941f5",
   "metadata": {
    "execution": {
     "iopub.execute_input": "2023-09-07T14:24:22.954178Z",
     "iopub.status.busy": "2023-09-07T14:24:22.953040Z",
     "iopub.status.idle": "2023-09-07T14:24:22.961771Z",
     "shell.execute_reply": "2023-09-07T14:24:22.960632Z"
    },
    "papermill": {
     "duration": 0.045681,
     "end_time": "2023-09-07T14:24:22.964263",
     "exception": false,
     "start_time": "2023-09-07T14:24:22.918582",
     "status": "completed"
    },
    "tags": []
   },
   "outputs": [
    {
     "data": {
      "text/plain": [
       "801944.7000000001"
      ]
     },
     "execution_count": 43,
     "metadata": {},
     "output_type": "execute_result"
    }
   ],
   "source": [
    "finaldf['price'].sum()"
   ]
  },
  {
   "cell_type": "markdown",
   "id": "3529a0ec",
   "metadata": {
    "papermill": {
     "duration": 0.031521,
     "end_time": "2023-09-07T14:24:23.027877",
     "exception": false,
     "start_time": "2023-09-07T14:24:22.996356",
     "status": "completed"
    },
    "tags": []
   },
   "source": [
    "**or**"
   ]
  },
  {
   "cell_type": "code",
   "execution_count": 44,
   "id": "01df9ca1",
   "metadata": {
    "execution": {
     "iopub.execute_input": "2023-09-07T14:24:23.093838Z",
     "iopub.status.busy": "2023-09-07T14:24:23.093420Z",
     "iopub.status.idle": "2023-09-07T14:24:23.101844Z",
     "shell.execute_reply": "2023-09-07T14:24:23.100561Z"
    },
    "papermill": {
     "duration": 0.044455,
     "end_time": "2023-09-07T14:24:23.104529",
     "exception": false,
     "start_time": "2023-09-07T14:24:23.060074",
     "status": "completed"
    },
    "tags": []
   },
   "outputs": [
    {
     "data": {
      "text/plain": [
       "801944.7"
      ]
     },
     "execution_count": 44,
     "metadata": {},
     "output_type": "execute_result"
    }
   ],
   "source": [
    "money['price'].sum()"
   ]
  },
  {
   "cell_type": "markdown",
   "id": "fcc84cea",
   "metadata": {
    "papermill": {
     "duration": 0.033094,
     "end_time": "2023-09-07T14:24:23.170085",
     "exception": false,
     "start_time": "2023-09-07T14:24:23.136991",
     "status": "completed"
    },
    "tags": []
   },
   "source": [
    "## **No. of pizzas ordered per month**"
   ]
  },
  {
   "cell_type": "code",
   "execution_count": 45,
   "id": "0da2b248",
   "metadata": {
    "execution": {
     "iopub.execute_input": "2023-09-07T14:24:23.238734Z",
     "iopub.status.busy": "2023-09-07T14:24:23.237582Z",
     "iopub.status.idle": "2023-09-07T14:24:23.247545Z",
     "shell.execute_reply": "2023-09-07T14:24:23.246608Z"
    },
    "papermill": {
     "duration": 0.047276,
     "end_time": "2023-09-07T14:24:23.250084",
     "exception": false,
     "start_time": "2023-09-07T14:24:23.202808",
     "status": "completed"
    },
    "tags": []
   },
   "outputs": [
    {
     "data": {
      "text/plain": [
       "7     4301\n",
       "5     4239\n",
       "3     4186\n",
       "11    4185\n",
       "1     4156\n",
       "8     4094\n",
       "4     4067\n",
       "6     4025\n",
       "2     3892\n",
       "12    3859\n",
       "9     3819\n",
       "10    3797\n",
       "Name: Months, dtype: int64"
      ]
     },
     "execution_count": 45,
     "metadata": {},
     "output_type": "execute_result"
    }
   ],
   "source": [
    "finaldf['Months'].value_counts().sort_values(ascending=False)"
   ]
  },
  {
   "cell_type": "code",
   "execution_count": 46,
   "id": "f6d0d71d",
   "metadata": {
    "execution": {
     "iopub.execute_input": "2023-09-07T14:24:23.319173Z",
     "iopub.status.busy": "2023-09-07T14:24:23.318442Z",
     "iopub.status.idle": "2023-09-07T14:24:23.733806Z",
     "shell.execute_reply": "2023-09-07T14:24:23.732579Z"
    },
    "papermill": {
     "duration": 0.453082,
     "end_time": "2023-09-07T14:24:23.736405",
     "exception": false,
     "start_time": "2023-09-07T14:24:23.283323",
     "status": "completed"
    },
    "tags": []
   },
   "outputs": [
    {
     "data": {
      "text/plain": [
       "Text(0.5, 1.0, 'No. of pizzas sold per month')"
      ]
     },
     "execution_count": 46,
     "metadata": {},
     "output_type": "execute_result"
    },
    {
     "data": {
      "image/png": "[encoded data removed]",
      "text/plain": [
       "<Figure size 1080x576 with 1 Axes>"
      ]
     },
     "metadata": {
      "needs_background": "light"
     },
     "output_type": "display_data"
    }
   ],
   "source": [
    "finaldf.groupby('Months').agg('Months').count().to_frame().plot(kind='bar',figsize=(15,8))\n",
    "\n",
    "\n",
    "plt.ylabel('No. of pizzas orderd per month')\n",
    "plt.title('No. of pizzas sold per month')"
   ]
  },
  {
   "cell_type": "markdown",
   "id": "d957fb98",
   "metadata": {
    "papermill": {
     "duration": 0.03241,
     "end_time": "2023-09-07T14:24:23.801954",
     "exception": false,
     "start_time": "2023-09-07T14:24:23.769544",
     "status": "completed"
    },
    "tags": []
   },
   "source": [
    "#  **4.Are there any pizzas we should take off the menu, or any promotions we could leverage?**"
   ]
  },
  {
   "cell_type": "markdown",
   "id": "84f78f1c",
   "metadata": {
    "papermill": {
     "duration": 0.033543,
     "end_time": "2023-09-07T14:24:23.868027",
     "exception": false,
     "start_time": "2023-09-07T14:24:23.834484",
     "status": "completed"
    },
    "tags": []
   },
   "source": [
    "## **least sold as per money**"
   ]
  },
  {
   "cell_type": "code",
   "execution_count": 47,
   "id": "5e1dc59f",
   "metadata": {
    "execution": {
     "iopub.execute_input": "2023-09-07T14:24:23.938691Z",
     "iopub.status.busy": "2023-09-07T14:24:23.937410Z",
     "iopub.status.idle": "2023-09-07T14:24:23.950741Z",
     "shell.execute_reply": "2023-09-07T14:24:23.949592Z"
    },
    "papermill": {
     "duration": 0.052176,
     "end_time": "2023-09-07T14:24:23.953336",
     "exception": false,
     "start_time": "2023-09-07T14:24:23.901160",
     "status": "completed"
    },
    "tags": []
   },
   "outputs": [
    {
     "data": {
      "text/html": [
       "<div>\n",
       "<style scoped>\n",
       "    .dataframe tbody tr th:only-of-type {\n",
       "        vertical-align: middle;\n",
       "    }\n",
       "\n",
       "    .dataframe tbody tr th {\n",
       "        vertical-align: top;\n",
       "    }\n",
       "\n",
       "    .dataframe thead th {\n",
       "        text-align: right;\n",
       "    }\n",
       "</style>\n",
       "<table border=\"1\" class=\"dataframe\">\n",
       "  <thead>\n",
       "    <tr style=\"text-align: right;\">\n",
       "      <th></th>\n",
       "      <th>price</th>\n",
       "    </tr>\n",
       "    <tr>\n",
       "      <th>pizza_id</th>\n",
       "      <th></th>\n",
       "    </tr>\n",
       "  </thead>\n",
       "  <tbody>\n",
       "    <tr>\n",
       "      <th>the_greek_s</th>\n",
       "      <td>3600.00</td>\n",
       "    </tr>\n",
       "    <tr>\n",
       "      <th>ital_cpcllo_s</th>\n",
       "      <td>3600.00</td>\n",
       "    </tr>\n",
       "    <tr>\n",
       "      <th>soppressata_s</th>\n",
       "      <td>3600.00</td>\n",
       "    </tr>\n",
       "    <tr>\n",
       "      <th>mediterraneo_s</th>\n",
       "      <td>3456.00</td>\n",
       "    </tr>\n",
       "    <tr>\n",
       "      <th>ital_supr_s</th>\n",
       "      <td>2425.00</td>\n",
       "    </tr>\n",
       "    <tr>\n",
       "      <th>mexicana_s</th>\n",
       "      <td>1920.00</td>\n",
       "    </tr>\n",
       "    <tr>\n",
       "      <th>green_garden_l</th>\n",
       "      <td>1903.50</td>\n",
       "    </tr>\n",
       "    <tr>\n",
       "      <th>ckn_alfredo_s</th>\n",
       "      <td>1224.00</td>\n",
       "    </tr>\n",
       "    <tr>\n",
       "      <th>calabrese_s</th>\n",
       "      <td>1212.75</td>\n",
       "    </tr>\n",
       "    <tr>\n",
       "      <th>the_greek_xxl</th>\n",
       "      <td>1006.60</td>\n",
       "    </tr>\n",
       "  </tbody>\n",
       "</table>\n",
       "</div>"
      ],
      "text/plain": [
       "                  price\n",
       "pizza_id               \n",
       "the_greek_s     3600.00\n",
       "ital_cpcllo_s   3600.00\n",
       "soppressata_s   3600.00\n",
       "mediterraneo_s  3456.00\n",
       "ital_supr_s     2425.00\n",
       "mexicana_s      1920.00\n",
       "green_garden_l  1903.50\n",
       "ckn_alfredo_s   1224.00\n",
       "calabrese_s     1212.75\n",
       "the_greek_xxl   1006.60"
      ]
     },
     "execution_count": 47,
     "metadata": {},
     "output_type": "execute_result"
    }
   ],
   "source": [
    "ml"
   ]
  },
  {
   "cell_type": "code",
   "execution_count": 48,
   "id": "01d7f8d4",
   "metadata": {
    "execution": {
     "iopub.execute_input": "2023-09-07T14:24:24.021852Z",
     "iopub.status.busy": "2023-09-07T14:24:24.021417Z",
     "iopub.status.idle": "2023-09-07T14:24:24.347418Z",
     "shell.execute_reply": "2023-09-07T14:24:24.346155Z"
    },
    "papermill": {
     "duration": 0.363718,
     "end_time": "2023-09-07T14:24:24.350386",
     "exception": false,
     "start_time": "2023-09-07T14:24:23.986668",
     "status": "completed"
    },
    "tags": []
   },
   "outputs": [
    {
     "data": {
      "text/plain": [
       "Text(0.5, 1.0, 'Last 10 revenue generated from certain pizza_id')"
      ]
     },
     "execution_count": 48,
     "metadata": {},
     "output_type": "execute_result"
    },
    {
     "data": {
      "image/png": "[encoded data removed]",
      "text/plain": [
       "<Figure size 1080x576 with 1 Axes>"
      ]
     },
     "metadata": {
      "needs_background": "light"
     },
     "output_type": "display_data"
    }
   ],
   "source": [
    "finaldf.groupby('pizza_id').agg('price').sum().sort_values(ascending=False).tail(10).to_frame().plot(kind='bar',color='g',figsize=(15,8))\n",
    "\n",
    "plt.ylabel('Revenue')\n",
    "plt.title('Last 10 revenue generated from certain pizza_id')"
   ]
  },
  {
   "cell_type": "markdown",
   "id": "6a0ce83e",
   "metadata": {
    "papermill": {
     "duration": 0.033383,
     "end_time": "2023-09-07T14:24:24.417932",
     "exception": false,
     "start_time": "2023-09-07T14:24:24.384549",
     "status": "completed"
    },
    "tags": []
   },
   "source": [
    "## **least sold as per no of times ordered**"
   ]
  },
  {
   "cell_type": "code",
   "execution_count": 49,
   "id": "55794a48",
   "metadata": {
    "execution": {
     "iopub.execute_input": "2023-09-07T14:24:24.489415Z",
     "iopub.status.busy": "2023-09-07T14:24:24.488964Z",
     "iopub.status.idle": "2023-09-07T14:24:24.505704Z",
     "shell.execute_reply": "2023-09-07T14:24:24.504447Z"
    },
    "papermill": {
     "duration": 0.055029,
     "end_time": "2023-09-07T14:24:24.508218",
     "exception": false,
     "start_time": "2023-09-07T14:24:24.453189",
     "status": "completed"
    },
    "tags": []
   },
   "outputs": [
    {
     "data": {
      "text/plain": [
       "spinach_supr_m    266\n",
       "the_greek_l       255\n",
       "ital_supr_s       194\n",
       "ital_veggie_l     190\n",
       "ckn_alfredo_l     187\n",
       "mexicana_s        160\n",
       "calabrese_s        99\n",
       "ckn_alfredo_s      96\n",
       "green_garden_l     94\n",
       "the_greek_xxl      28\n",
       "Name: pizza_id, dtype: int64"
      ]
     },
     "execution_count": 49,
     "metadata": {},
     "output_type": "execute_result"
    }
   ],
   "source": [
    "finaldf['pizza_id'].value_counts().tail(10)\n",
    "#we can remove the_greek_xxl as it being sold just 28 times this year"
   ]
  },
  {
   "cell_type": "code",
   "execution_count": 50,
   "id": "f8d73fae",
   "metadata": {
    "execution": {
     "iopub.execute_input": "2023-09-07T14:24:24.578876Z",
     "iopub.status.busy": "2023-09-07T14:24:24.578426Z",
     "iopub.status.idle": "2023-09-07T14:24:24.903763Z",
     "shell.execute_reply": "2023-09-07T14:24:24.902385Z"
    },
    "papermill": {
     "duration": 0.363785,
     "end_time": "2023-09-07T14:24:24.906462",
     "exception": false,
     "start_time": "2023-09-07T14:24:24.542677",
     "status": "completed"
    },
    "tags": []
   },
   "outputs": [
    {
     "data": {
      "text/plain": [
       "Text(0.5, 1.0, 'Last 10 least sold as per no. of times ordered')"
      ]
     },
     "execution_count": 50,
     "metadata": {},
     "output_type": "execute_result"
    },
    {
     "data": {
      "image/png": "[encoded data removed]",
      "text/plain": [
       "<Figure size 1080x576 with 1 Axes>"
      ]
     },
     "metadata": {
      "needs_background": "light"
     },
     "output_type": "display_data"
    }
   ],
   "source": [
    "finaldf.groupby('pizza_id').agg('pizza_id').count().sort_values(ascending=False).tail(10).to_frame().plot(kind='bar',color='red',figsize=(15,8))\n",
    "\n",
    "plt.ylabel('No. of times ordered')\n",
    "plt.title('Last 10 least sold as per no. of times ordered')"
   ]
  },
  {
   "cell_type": "markdown",
   "id": "6118eabf",
   "metadata": {
    "papermill": {
     "duration": 0.034998,
     "end_time": "2023-09-07T14:24:24.977720",
     "exception": false,
     "start_time": "2023-09-07T14:24:24.942722",
     "status": "completed"
    },
    "tags": []
   },
   "source": [
    "# **Exporting file**"
   ]
  },
  {
   "cell_type": "code",
   "execution_count": 51,
   "id": "28222f02",
   "metadata": {
    "execution": {
     "iopub.execute_input": "2023-09-07T14:24:25.049216Z",
     "iopub.status.busy": "2023-09-07T14:24:25.048042Z",
     "iopub.status.idle": "2023-09-07T14:24:25.656863Z",
     "shell.execute_reply": "2023-09-07T14:24:25.655801Z"
    },
    "papermill": {
     "duration": 0.647454,
     "end_time": "2023-09-07T14:24:25.659724",
     "exception": false,
     "start_time": "2023-09-07T14:24:25.012270",
     "status": "completed"
    },
    "tags": []
   },
   "outputs": [],
   "source": [
    "finaldf.to_csv('final.csv')"
   ]
  },
  {
   "cell_type": "markdown",
   "id": "8fda319b",
   "metadata": {
    "papermill": {
     "duration": 0.035171,
     "end_time": "2023-09-07T14:24:25.729246",
     "exception": false,
     "start_time": "2023-09-07T14:24:25.694075",
     "status": "completed"
    },
    "tags": []
   },
   "source": [
    "#### **Project by**\n",
    "#### **Rakesh kudmulwar**\n",
    "[linkedIn](https://www.linkedin.com/in/rakesh-kudmulwar-b21a89152/)   **|**   [GitHub](https://github.com/Rakesh-Kudmulwar)"
   ]
  }
 ],
 "kernelspec": {
  "display_name": "Python 3",
  "language": "python",
  "name": "python3"
 },
 "language_info": {
  "codemirror_mode": {
   "name": "ipython",
   "version": 3
  },
  "file_extension": ".py",
  "mimetype": "text/x-python",
  "name": "python",
  "nbconvert_exporter": "python",
  "pygments_lexer": "ipython3",
  "version": "3.6.4"
 },
 "metadata": {
  "kernelspec": {
   "display_name": "Python 3",
   "language": "python",
   "name": "python3"
  },
  "language_info": {
   "codemirror_mode": {
    "name": "ipython",
    "version": 3
   },
   "file_extension": ".py",
   "mimetype": "text/x-python",
   "name": "python",
   "nbconvert_exporter": "python",
   "pygments_lexer": "ipython3",
   "version": "3.7.12"
  },
  "papermill": {
   "default_parameters": {},
   "duration": 23.22687,
   "end_time": "2023-09-07T14:24:26.488562",
   "environment_variables": {},
   "exception": null,
   "input_path": "__notebook__.ipynb",
   "output_path": "__notebook__.ipynb",
   "parameters": {},
   "start_time": "2023-09-07T14:24:03.261692",
   "version": "2.3.4"
  }
 },
 "nbformat": 4,
 "nbformat_minor": 5
}
